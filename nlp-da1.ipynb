{
  "cells": [
    {
      "attachments": {},
      "cell_type": "markdown",
      "metadata": {
        "id": "5YnUy0pKk4IC"
      },
      "source": [
        "# CSE4022 NATURAL LANGUAGE PROCESSING\n",
        "## DIGITAL ASSIGNMENT 1\n",
        "## NAME: SIDHARTHAN R\n",
        "## REG.NO: 20BCE1822\n",
        "\n",
        "1. Utilize Python NLTK (Natural Language Tool Kit) Platform and do the following.Install relevant Packages and Libraries (03 Marks)\n",
        "\n",
        "• Explore Brown Corpus and find the size, tokens, categories\n"
      ]
    },
    {
      "cell_type": "code",
      "execution_count": null,
      "metadata": {
        "colab": {
          "base_uri": "https://localhost:8080/"
        },
        "id": "UvJEfqFb3IwZ",
        "outputId": "c9ee3f38-c518-4cec-9676-ee867414dc32"
      },
      "outputs": [
        {
          "name": "stderr",
          "output_type": "stream",
          "text": [
            "[nltk_data] Downloading package brown to /root/nltk_data...\n",
            "[nltk_data]   Unzipping corpora/brown.zip.\n",
            "[nltk_data] Downloading package webtext to /root/nltk_data...\n",
            "[nltk_data]   Unzipping corpora/webtext.zip.\n",
            "[nltk_data] Downloading package punkt to /root/nltk_data...\n",
            "[nltk_data]   Unzipping tokenizers/punkt.zip.\n",
            "[nltk_data] Downloading package averaged_perceptron_tagger to\n",
            "[nltk_data]     /root/nltk_data...\n",
            "[nltk_data]   Unzipping taggers/averaged_perceptron_tagger.zip.\n"
          ]
        },
        {
          "data": {
            "text/plain": [
              "True"
            ]
          },
          "execution_count": 2,
          "metadata": {},
          "output_type": "execute_result"
        }
      ],
      "source": [
        "import nltk\n",
        "nltk.download('brown')\n",
        "nltk.download('webtext')\n",
        "nltk.download('punkt')\n",
        "nltk.download('averaged_perceptron_tagger')"
      ]
    },
    {
      "cell_type": "code",
      "execution_count": null,
      "metadata": {
        "colab": {
          "base_uri": "https://localhost:8080/"
        },
        "id": "21NtEH1greIM",
        "outputId": "77e200a2-adbf-469f-80e6-2fe79df80710"
      },
      "outputs": [
        {
          "name": "stdout",
          "output_type": "stream",
          "text": [
            "['adventure', 'belles_lettres', 'editorial', 'fiction', 'government', 'hobbies', 'humor', 'learned', 'lore', 'mystery', 'news', 'religion', 'reviews', 'romance', 'science_fiction']\n",
            "['The', 'Fulton', 'County', 'Grand', 'Jury', 'said', ...]\n",
            "1161192\n",
            "['firefox.txt', 'grail.txt', 'overheard.txt', 'pirates.txt', 'singles.txt', 'wine.txt']\n",
            "ARE YOU ALONE or lost in a r/ship too, with no hope in sight? Maybe we could explore new beginnings together? Im 45 Slim/Med build, GSOH, high needs and looking for someone similar. You WONT be disappointed.\n",
            "['ARE YOU ALONE or lost in a r/ship too, with no hope in sight?', 'Maybe we could explore new beginnings together?', 'Im 45 Slim/Med build, GSOH, high needs and looking for someone similar.', 'You WONT be disappointed.']\n",
            "['ARE', 'YOU', 'ALONE', 'or', 'lost', 'in', 'a', 'r/ship', 'too', ',', 'with', 'no', 'hope', 'in', 'sight', '?']\n",
            "['Maybe', 'we', 'could', 'explore', 'new', 'beginnings', 'together', '?']\n",
            "['Im', '45', 'Slim/Med', 'build', ',', 'GSOH', ',', 'high', 'needs', 'and', 'looking', 'for', 'someone', 'similar', '.']\n",
            "['You', 'WONT', 'be', 'disappointed', '.']\n"
          ]
        }
      ],
      "source": [
        "from nltk.corpus import brown\n",
        "print(brown.categories())\n",
        "print(brown.words())\n",
        "print(len(brown.words()))   #size\n",
        "from nltk.corpus import webtext\n",
        "from nltk import sent_tokenize, word_tokenize\n",
        "print(webtext.fileids())\n",
        "single_no8 = webtext.raw('singles.txt').split('\\n')[8]\n",
        "print(single_no8)                  \n",
        "print(sent_tokenize(single_no8))   #sentence tokenization\n",
        "for sent in sent_tokenize(single_no8):\n",
        "    print(word_tokenize(sent))     #word tokenization"
      ]
    },
    {
      "cell_type": "markdown",
      "metadata": {
        "id": "OEVeXbkYAVuJ"
      },
      "source": [
        "\n",
        "• Find the size of word tokens?"
      ]
    },
    {
      "cell_type": "code",
      "execution_count": null,
      "metadata": {
        "colab": {
          "base_uri": "https://localhost:8080/"
        },
        "id": "YwD-oOYLAfKR",
        "outputId": "4076990b-0c5e-4902-f173-473abd879fe2"
      },
      "outputs": [
        {
          "name": "stdout",
          "output_type": "stream",
          "text": [
            "['The', 'Fulton', 'County', 'Grand', 'Jury', 'said', ...]\n",
            "1161192\n"
          ]
        }
      ],
      "source": [
        "print(brown.words())\n",
        "print(len(brown.words()))   #size"
      ]
    },
    {
      "cell_type": "markdown",
      "metadata": {
        "id": "bgkNkzKhBGD5"
      },
      "source": [
        "\n",
        "• Find the size of word types?"
      ]
    },
    {
      "cell_type": "code",
      "execution_count": null,
      "metadata": {
        "colab": {
          "base_uri": "https://localhost:8080/"
        },
        "id": "jZKyAMpoBMGA",
        "outputId": "65261494-f90e-418b-bb60-b137df1e29e2"
      },
      "outputs": [
        {
          "name": "stdout",
          "output_type": "stream",
          "text": [
            "15\n"
          ]
        }
      ],
      "source": [
        "print(len(brown.categories()))"
      ]
    },
    {
      "cell_type": "markdown",
      "metadata": {
        "id": "LuKQiokBDBFy"
      },
      "source": [
        "\n",
        "• Find the size of the category “government”"
      ]
    },
    {
      "cell_type": "code",
      "execution_count": null,
      "metadata": {
        "colab": {
          "base_uri": "https://localhost:8080/"
        },
        "id": "BHnVhsCqDMqY",
        "outputId": "e1257022-d7f0-4465-97e6-c32fa482ea1d"
      },
      "outputs": [
        {
          "data": {
            "text/plain": [
              "70117"
            ]
          },
          "execution_count": 35,
          "metadata": {},
          "output_type": "execute_result"
        }
      ],
      "source": [
        "len(brown.words(categories='government'))"
      ]
    },
    {
      "cell_type": "markdown",
      "metadata": {
        "id": "KheUMWsPDc5I"
      },
      "source": [
        "\n",
        "• List the most frequent tokens\n",
        "(Here the tokens and frequency are printed in descending order of frquency)"
      ]
    },
    {
      "cell_type": "code",
      "execution_count": null,
      "metadata": {
        "colab": {
          "base_uri": "https://localhost:8080/"
        },
        "id": "iQvjOTmPDkVw",
        "outputId": "5ae1da89-2ec0-4f66-b94e-50fa264058ff"
      },
      "outputs": [
        {
          "name": "stdout",
          "output_type": "stream",
          "text": [
            "the: 4621 ,: 3405 of: 3059 .: 2493 and: 1948 to: 1859 in: 1467 a: 971 for: 858 is: 657 be: 603 that: 503 as: 480 ;: 444 this: 440 by: 438 on: 425 are: 416 or: 400 with: 376 ): 345 (: 342 it: 324 which: 265 at: 253 from: 249 will: 244 an: 227 have: 223 not: 208 other: 200 state: 196 such: 195 year: 183 states: 180 may: 179 their: 178 all: 169 our: 164 these: 156 has: 153 its: 150 any: 149 we: 145 --: 139 been: 130 more: 126 development: 125 '': 122 would: 120 can: 119 made: 118 than: 117 business: 115 if: 113 :: 110 1: 107 years: 106 time: 104 must: 102 under: 101 fiscal: 100 shall: 99 there: 98 general: 94 tax: 90 also: 89 service: 88 program: 87 many: 86 act: 85 so: 83 department: 81 during: 80 each: 77 only: 73 property: 72 two: 71 island: 70 some: 68 small: 67 national: 66 into: 65 board: 64 them: 63 both: 62 through: 60 local: 58 per: 56 most: 55 income: 54 military: 53 available: 52 production: 51 had: 49 where: 48 3: 47 within: 46 assistance: 45 industrial: 44 amount: 43 present: 42 information: 41 system: 40 problems: 39 management: 38 however: 37 programs: 36 required: 35 operation: 34 economic: 33 aid: 32 plant: 31 further: 30 payments: 29 products: 28 basic: 27 opportunity: 26 including: 25 established: 24 individual: 23 current: 22 operations: 21 community: 20 types: 19 designed: 18 essential: 17 needs: 16 economy: 15 provides: 14 contract: 13 changes: 12 measures: 11 phase: 10 contact: 9 balance: 8 analysis: 7 outlook: 6 expanding: 5 businessmen: 4 improving: 3 short-run: 2 develops: 1 The: 0 "
          ]
        }
      ],
      "source": [
        "import nltk\n",
        "from nltk.corpus import brown\n",
        "govn_text = brown.words(categories='government')\n",
        "fdist = nltk.FreqDist(w.lower() for w in govn_text)\n",
        "arr =[]\n",
        "i=0\n",
        "for m in govn_text:\n",
        "    arr.append(fdist[m])\n",
        "arr.sort(reverse=True)\n",
        "res = []\n",
        "[res.append(x) for x in arr if x not in res]\n",
        "for j in range (0,len(res)):\n",
        "    for m in govn_text:\n",
        "        if(i<len(res) and fdist[m]==res[i]):\n",
        "            print(m + ':', fdist[m], end=' ')\n",
        "            i=i+1\n",
        "            break\n",
        "            "
      ]
    },
    {
      "cell_type": "markdown",
      "metadata": {
        "id": "nR6lEvIImXGh"
      },
      "source": [
        "\n",
        "• Count the number of sentences"
      ]
    },
    {
      "cell_type": "code",
      "execution_count": null,
      "metadata": {
        "colab": {
          "base_uri": "https://localhost:8080/"
        },
        "id": "JioVvs8vmc5h",
        "outputId": "2485d06e-7c19-494b-faeb-339ae8e68c0b"
      },
      "outputs": [
        {
          "name": "stdout",
          "output_type": "stream",
          "text": [
            "4\n"
          ]
        }
      ],
      "source": [
        "print(len(sent_tokenize(single_no8)))  #this value is taken by the sentence tokenization example done above"
      ]
    },
    {
      "cell_type": "markdown",
      "metadata": {
        "id": "H-Fw0yHerbc7"
      },
      "source": [
        "2. Explore the corpora available in NLTK (any two)\n",
        "\n",
        "• Raw corpus\n",
        "\n",
        "• POS tagged\n",
        "\n",
        "• Parsed\n",
        "\n",
        "• Multilingual aligned\n",
        "\n",
        "• Spoken language\n",
        "\n",
        "• Semantic tagged"
      ]
    },
    {
      "cell_type": "markdown",
      "metadata": {
        "id": "hRaI9wXfrmtZ"
      },
      "source": [
        "2. i.POS tagged       \n",
        "Printing tags"
      ]
    },
    {
      "cell_type": "code",
      "execution_count": null,
      "metadata": {
        "colab": {
          "base_uri": "https://localhost:8080/"
        },
        "id": "4xIMsaN3rrYK",
        "outputId": "2052fbca-a297-4c3b-dab3-b607dad48eb4"
      },
      "outputs": [
        {
          "data": {
            "text/plain": [
              "[('The', 'DT'),\n",
              " ('Fulton', 'NNP'),\n",
              " ('County', 'NNP'),\n",
              " ('Grand', 'NNP'),\n",
              " ('Jury', 'NNP'),\n",
              " ('said', 'VBD'),\n",
              " ('Friday', 'NNP'),\n",
              " ('an', 'DT'),\n",
              " ('investigation', 'NN'),\n",
              " ('of', 'IN'),\n",
              " (\"Atlanta's\", 'NNP'),\n",
              " ('recent', 'JJ'),\n",
              " ('primary', 'JJ'),\n",
              " ('election', 'NN'),\n",
              " ('produced', 'VBD'),\n",
              " ('``', '``'),\n",
              " ('no', 'DT'),\n",
              " ('evidence', 'NN'),\n",
              " (\"''\", \"''\"),\n",
              " ('that', 'IN'),\n",
              " ('any', 'DT'),\n",
              " ('irregularities', 'NNS'),\n",
              " ('took', 'VBD'),\n",
              " ('place', 'NN'),\n",
              " ('.', '.'),\n",
              " ('The', 'DT'),\n",
              " ('jury', 'NN'),\n",
              " ('further', 'RB'),\n",
              " ('said', 'VBD'),\n",
              " ('in', 'IN'),\n",
              " ('term-end', 'JJ'),\n",
              " ('presentments', 'NNS'),\n",
              " ('that', 'IN'),\n",
              " ('the', 'DT'),\n",
              " ('City', 'NNP'),\n",
              " ('Executive', 'NNP'),\n",
              " ('Committee', 'NNP'),\n",
              " (',', ','),\n",
              " ('which', 'WDT'),\n",
              " ('had', 'VBD'),\n",
              " ('over-all', 'JJ'),\n",
              " ('charge', 'NN'),\n",
              " ('of', 'IN'),\n",
              " ('the', 'DT'),\n",
              " ('election', 'NN'),\n",
              " (',', ','),\n",
              " ('``', '``'),\n",
              " ('deserves', 'VBZ'),\n",
              " ('the', 'DT'),\n",
              " ('praise', 'NN'),\n",
              " ('and', 'CC'),\n",
              " ('thanks', 'NNS'),\n",
              " ('of', 'IN'),\n",
              " ('the', 'DT'),\n",
              " ('City', 'NNP'),\n",
              " ('of', 'IN'),\n",
              " ('Atlanta', 'NNP'),\n",
              " (\"''\", \"''\"),\n",
              " ('for', 'IN'),\n",
              " ('the', 'DT'),\n",
              " ('manner', 'NN'),\n",
              " ('in', 'IN'),\n",
              " ('which', 'WDT'),\n",
              " ('the', 'DT'),\n",
              " ('election', 'NN'),\n",
              " ('was', 'VBD'),\n",
              " ('conducted', 'VBN'),\n",
              " ('.', '.'),\n",
              " ('The', 'DT'),\n",
              " ('September-October', 'NNP'),\n",
              " ('term', 'NN'),\n",
              " ('jury', 'NN'),\n",
              " ('had', 'VBD'),\n",
              " ('been', 'VBN'),\n",
              " ('charged', 'VBN'),\n",
              " ('by', 'IN'),\n",
              " ('Fulton', 'NNP'),\n",
              " ('Superior', 'NNP'),\n",
              " ('Court', 'NNP'),\n",
              " ('Judge', 'NNP'),\n",
              " ('Durwood', 'NNP'),\n",
              " ('Pye', 'NNP'),\n",
              " ('to', 'TO'),\n",
              " ('investigate', 'VB'),\n",
              " ('reports', 'NNS'),\n",
              " ('of', 'IN'),\n",
              " ('possible', 'JJ'),\n",
              " ('``', '``'),\n",
              " ('irregularities', 'NNS'),\n",
              " (\"''\", \"''\"),\n",
              " ('in', 'IN'),\n",
              " ('the', 'DT'),\n",
              " ('hard-fought', 'JJ'),\n",
              " ('primary', 'NN'),\n",
              " ('which', 'WDT'),\n",
              " ('was', 'VBD'),\n",
              " ('won', 'VBN'),\n",
              " ('by', 'IN'),\n",
              " ('Mayor-nominate', 'NNP'),\n",
              " ('Ivan', 'NNP'),\n",
              " ('Allen', 'NNP'),\n",
              " ('Jr.', 'NNP'),\n",
              " ('.', '.'),\n",
              " ('``', '``'),\n",
              " ('Only', 'RB'),\n",
              " ('a', 'DT'),\n",
              " ('relative', 'JJ'),\n",
              " ('handful', 'NN'),\n",
              " ('of', 'IN'),\n",
              " ('such', 'JJ'),\n",
              " ('reports', 'NNS'),\n",
              " ('was', 'VBD'),\n",
              " ('received', 'VBN'),\n",
              " (\"''\", \"''\"),\n",
              " (',', ','),\n",
              " ('the', 'DT'),\n",
              " ('jury', 'NN'),\n",
              " ('said', 'VBD'),\n",
              " (',', ','),\n",
              " ('``', '``'),\n",
              " ('considering', 'VBG'),\n",
              " ('the', 'DT'),\n",
              " ('widespread', 'JJ'),\n",
              " ('interest', 'NN'),\n",
              " ('in', 'IN'),\n",
              " ('the', 'DT'),\n",
              " ('election', 'NN'),\n",
              " (',', ','),\n",
              " ('the', 'DT'),\n",
              " ('number', 'NN'),\n",
              " ('of', 'IN'),\n",
              " ('voters', 'NNS'),\n",
              " ('and', 'CC'),\n",
              " ('the', 'DT'),\n",
              " ('size', 'NN'),\n",
              " ('of', 'IN'),\n",
              " ('this', 'DT'),\n",
              " ('city', 'NN'),\n",
              " (\"''\", \"''\"),\n",
              " ('.', '.'),\n",
              " ('The', 'DT'),\n",
              " ('jury', 'NN'),\n",
              " ('said', 'VBD'),\n",
              " ('it', 'PRP'),\n",
              " ('did', 'VBD'),\n",
              " ('find', 'VB'),\n",
              " ('that', 'IN'),\n",
              " ('many', 'JJ'),\n",
              " ('of', 'IN'),\n",
              " (\"Georgia's\", 'NNP'),\n",
              " ('registration', 'NN'),\n",
              " ('and', 'CC'),\n",
              " ('election', 'NN'),\n",
              " ('laws', 'NNS'),\n",
              " ('``', '``'),\n",
              " ('are', 'VBP'),\n",
              " ('outmoded', 'VBN'),\n",
              " ('or', 'CC'),\n",
              " ('inadequate', 'JJ'),\n",
              " ('and', 'CC'),\n",
              " ('often', 'RB'),\n",
              " ('ambiguous', 'JJ'),\n",
              " (\"''\", \"''\"),\n",
              " ('.', '.'),\n",
              " ('It', 'PRP'),\n",
              " ('recommended', 'VBD'),\n",
              " ('that', 'IN'),\n",
              " ('Fulton', 'NNP'),\n",
              " ('legislators', 'NNS'),\n",
              " ('act', 'VBP'),\n",
              " ('``', '``'),\n",
              " ('to', 'TO'),\n",
              " ('have', 'VB'),\n",
              " ('these', 'DT'),\n",
              " ('laws', 'NNS'),\n",
              " ('studied', 'VBD'),\n",
              " ('and', 'CC'),\n",
              " ('revised', 'VBD'),\n",
              " ('to', 'TO'),\n",
              " ('the', 'DT'),\n",
              " ('end', 'NN'),\n",
              " ('of', 'IN'),\n",
              " ('modernizing', 'NN'),\n",
              " ('and', 'CC'),\n",
              " ('improving', 'VBG'),\n",
              " ('them', 'PRP'),\n",
              " (\"''\", \"''\"),\n",
              " ('.', '.'),\n",
              " ('The', 'DT'),\n",
              " ('grand', 'JJ'),\n",
              " ('jury', 'NN'),\n",
              " ('commented', 'VBD'),\n",
              " ('on', 'IN'),\n",
              " ('a', 'DT'),\n",
              " ('number', 'NN'),\n",
              " ('of', 'IN'),\n",
              " ('other', 'JJ'),\n",
              " ('topics', 'NNS'),\n",
              " (',', ','),\n",
              " ('among', 'IN'),\n",
              " ('them', 'PRP'),\n",
              " ('the', 'DT'),\n",
              " ('Atlanta', 'NNP'),\n",
              " ('and', 'CC'),\n",
              " ('Fulton', 'NNP'),\n",
              " ('County', 'NNP'),\n",
              " ('purchasing', 'NN'),\n",
              " ('departments', 'NNS'),\n",
              " ('which', 'WDT'),\n",
              " ('it', 'PRP'),\n",
              " ('said', 'VBD'),\n",
              " ('``', '``'),\n",
              " ('are', 'VBP'),\n",
              " ('well', 'RB'),\n",
              " ('operated', 'VBN'),\n",
              " ('and', 'CC'),\n",
              " ('follow', 'VB'),\n",
              " ('generally', 'RB'),\n",
              " ('accepted', 'VBN'),\n",
              " ('practices', 'NNS'),\n",
              " ('which', 'WDT'),\n",
              " ('inure', 'VBP'),\n",
              " ('to', 'TO'),\n",
              " ('the', 'DT'),\n",
              " ('best', 'JJS'),\n",
              " ('interest', 'NN'),\n",
              " ('of', 'IN'),\n",
              " ('both', 'DT'),\n",
              " ('governments', 'NNS'),\n",
              " (\"''\", \"''\"),\n",
              " ('.', '.'),\n",
              " ('Merger', 'NNP'),\n",
              " ('proposed', 'VBD'),\n",
              " ('However', 'RB'),\n",
              " (',', ','),\n",
              " ('the', 'DT'),\n",
              " ('jury', 'NN'),\n",
              " ('said', 'VBD'),\n",
              " ('it', 'PRP'),\n",
              " ('believes', 'VBZ'),\n",
              " ('``', '``'),\n",
              " ('these', 'DT'),\n",
              " ('two', 'CD'),\n",
              " ('offices', 'NNS'),\n",
              " ('should', 'MD'),\n",
              " ('be', 'VB'),\n",
              " ('combined', 'VBN'),\n",
              " ('to', 'TO'),\n",
              " ('achieve', 'VB'),\n",
              " ('greater', 'JJR'),\n",
              " ('efficiency', 'NN'),\n",
              " ('and', 'CC'),\n",
              " ('reduce', 'VB'),\n",
              " ('the', 'DT'),\n",
              " ('cost', 'NN'),\n",
              " ('of', 'IN'),\n",
              " ('administration', 'NN'),\n",
              " (\"''\", \"''\"),\n",
              " ('.', '.'),\n",
              " ('The', 'DT'),\n",
              " ('City', 'NNP'),\n",
              " ('Purchasing', 'NNP'),\n",
              " ('Department', 'NNP'),\n",
              " (',', ','),\n",
              " ('the', 'DT'),\n",
              " ('jury', 'NN'),\n",
              " ('said', 'VBD'),\n",
              " (',', ','),\n",
              " ('``', '``'),\n",
              " ('is', 'VBZ'),\n",
              " ('lacking', 'VBG'),\n",
              " ('in', 'IN'),\n",
              " ('experienced', 'JJ'),\n",
              " ('clerical', 'JJ'),\n",
              " ('personnel', 'NNS'),\n",
              " ('as', 'IN'),\n",
              " ('a', 'DT'),\n",
              " ('result', 'NN'),\n",
              " ('of', 'IN'),\n",
              " ('city', 'NN'),\n",
              " ('personnel', 'NNS'),\n",
              " ('policies', 'NNS'),\n",
              " (\"''\", \"''\"),\n",
              " ('.', '.'),\n",
              " ('It', 'PRP'),\n",
              " ('urged', 'VBD'),\n",
              " ('that', 'IN'),\n",
              " ('the', 'DT'),\n",
              " ('city', 'NN'),\n",
              " ('``', '``'),\n",
              " ('take', 'VB'),\n",
              " ('steps', 'NNS'),\n",
              " ('to', 'TO'),\n",
              " ('remedy', 'VB'),\n",
              " (\"''\", \"''\"),\n",
              " ('this', 'DT'),\n",
              " ('problem', 'NN'),\n",
              " ('.', '.'),\n",
              " ('Implementation', 'NN'),\n",
              " ('of', 'IN'),\n",
              " (\"Georgia's\", 'NNP'),\n",
              " ('automobile', 'NN'),\n",
              " ('title', 'NN'),\n",
              " ('law', 'NN'),\n",
              " ('was', 'VBD'),\n",
              " ('also', 'RB'),\n",
              " ('recommended', 'VBN'),\n",
              " ('by', 'IN'),\n",
              " ('the', 'DT'),\n",
              " ('outgoing', 'JJ'),\n",
              " ('jury', 'NN'),\n",
              " ('.', '.'),\n",
              " ('It', 'PRP'),\n",
              " ('urged', 'VBD'),\n",
              " ('that', 'IN'),\n",
              " ('the', 'DT'),\n",
              " ('next', 'JJ'),\n",
              " ('Legislature', 'NNP'),\n",
              " ('``', '``'),\n",
              " ('provide', 'VB'),\n",
              " ('enabling', 'VBG'),\n",
              " ('funds', 'NNS'),\n",
              " ('and', 'CC'),\n",
              " ('re-set', 'VB'),\n",
              " ('the', 'DT'),\n",
              " ('effective', 'JJ'),\n",
              " ('date', 'NN'),\n",
              " ('so', 'RB'),\n",
              " ('that', 'IN'),\n",
              " ('an', 'DT'),\n",
              " ('orderly', 'JJ'),\n",
              " ('implementation', 'NN'),\n",
              " ('of', 'IN'),\n",
              " ('the', 'DT'),\n",
              " ('law', 'NN'),\n",
              " ('may', 'MD'),\n",
              " ('be', 'VB'),\n",
              " ('effected', 'VBN'),\n",
              " (\"''\", \"''\"),\n",
              " ('.', '.'),\n",
              " ('The', 'DT'),\n",
              " ('grand', 'JJ'),\n",
              " ('jury', 'NN'),\n",
              " ('took', 'VBD'),\n",
              " ('a', 'DT'),\n",
              " ('swipe', 'NN'),\n",
              " ('at', 'IN'),\n",
              " ('the', 'DT'),\n",
              " ('State', 'NNP'),\n",
              " ('Welfare', 'NNP'),\n",
              " (\"Department's\", 'NNP'),\n",
              " ('handling', 'NN'),\n",
              " ('of', 'IN'),\n",
              " ('federal', 'JJ'),\n",
              " ('funds', 'NNS'),\n",
              " ('granted', 'VBN'),\n",
              " ('for', 'IN'),\n",
              " ('child', 'NN'),\n",
              " ('welfare', 'NN'),\n",
              " ('services', 'NNS'),\n",
              " ('in', 'IN'),\n",
              " ('foster', 'JJ'),\n",
              " ('homes', 'NNS'),\n",
              " ('.', '.'),\n",
              " ('``', '``'),\n",
              " ('This', 'DT'),\n",
              " ('is', 'VBZ'),\n",
              " ('one', 'CD'),\n",
              " ('of', 'IN'),\n",
              " ('the', 'DT'),\n",
              " ('major', 'JJ'),\n",
              " ('items', 'NNS'),\n",
              " ('in', 'IN'),\n",
              " ('the', 'DT'),\n",
              " ('Fulton', 'NNP'),\n",
              " ('County', 'NNP'),\n",
              " ('general', 'JJ'),\n",
              " ('assistance', 'NN'),\n",
              " ('program', 'NN'),\n",
              " (\"''\", \"''\"),\n",
              " (',', ','),\n",
              " ('the', 'DT'),\n",
              " ('jury', 'NN'),\n",
              " ('said', 'VBD'),\n",
              " (',', ','),\n",
              " ('but', 'CC'),\n",
              " ('the', 'DT'),\n",
              " ('State', 'NNP'),\n",
              " ('Welfare', 'NNP'),\n",
              " ('Department', 'NNP'),\n",
              " ('``', '``'),\n",
              " ('has', 'VBZ'),\n",
              " ('seen', 'VBN'),\n",
              " ('fit', 'NN'),\n",
              " ('to', 'TO'),\n",
              " ('distribute', 'VB'),\n",
              " ('these', 'DT'),\n",
              " ('funds', 'NNS'),\n",
              " ('through', 'IN'),\n",
              " ('the', 'DT'),\n",
              " ('welfare', 'NN'),\n",
              " ('departments', 'NNS'),\n",
              " ('of', 'IN'),\n",
              " ('all', 'PDT'),\n",
              " ('the', 'DT'),\n",
              " ('counties', 'NNS'),\n",
              " ('in', 'IN'),\n",
              " ('the', 'DT'),\n",
              " ('state', 'NN'),\n",
              " ('with', 'IN'),\n",
              " ('the', 'DT'),\n",
              " ('exception', 'NN'),\n",
              " ('of', 'IN'),\n",
              " ('Fulton', 'NNP'),\n",
              " ('County', 'NNP'),\n",
              " (',', ','),\n",
              " ('which', 'WDT'),\n",
              " ('receives', 'VBZ'),\n",
              " ('none', 'NN'),\n",
              " ('of', 'IN'),\n",
              " ('this', 'DT'),\n",
              " ('money', 'NN'),\n",
              " ('.', '.'),\n",
              " ('The', 'DT'),\n",
              " ('jurors', 'NNS'),\n",
              " ('said', 'VBD'),\n",
              " ('they', 'PRP'),\n",
              " ('realize', 'VBP'),\n",
              " ('``', '``'),\n",
              " ('a', 'DT'),\n",
              " ('proportionate', 'JJ'),\n",
              " ('distribution', 'NN'),\n",
              " ('of', 'IN'),\n",
              " ('these', 'DT'),\n",
              " ('funds', 'NNS'),\n",
              " ('might', 'MD'),\n",
              " ('disable', 'VB'),\n",
              " ('this', 'DT'),\n",
              " ('program', 'NN'),\n",
              " ('in', 'IN'),\n",
              " ('our', 'PRP$'),\n",
              " ('less', 'CC'),\n",
              " ('populous', 'JJ'),\n",
              " ('counties', 'NNS'),\n",
              " (\"''\", \"''\"),\n",
              " ('.', '.'),\n",
              " ('Nevertheless', 'NNP'),\n",
              " (',', ','),\n",
              " ('``', '``'),\n",
              " ('we', 'PRP'),\n",
              " ('feel', 'VBP'),\n",
              " ('that', 'IN'),\n",
              " ('in', 'IN'),\n",
              " ('the', 'DT'),\n",
              " ('future', 'JJ'),\n",
              " ('Fulton', 'NNP'),\n",
              " ('County', 'NNP'),\n",
              " ('should', 'MD'),\n",
              " ('receive', 'VB'),\n",
              " ('some', 'DT'),\n",
              " ('portion', 'NN'),\n",
              " ('of', 'IN'),\n",
              " ('these', 'DT'),\n",
              " ('available', 'JJ'),\n",
              " ('funds', 'NNS'),\n",
              " (\"''\", \"''\"),\n",
              " (',', ','),\n",
              " ('the', 'DT'),\n",
              " ('jurors', 'NNS'),\n",
              " ('said', 'VBD'),\n",
              " ('.', '.'),\n",
              " ('``', '``'),\n",
              " ('Failure', 'NN'),\n",
              " ('to', 'TO'),\n",
              " ('do', 'VB'),\n",
              " ('this', 'DT'),\n",
              " ('will', 'MD'),\n",
              " ('continue', 'VB'),\n",
              " ('to', 'TO'),\n",
              " ('place', 'VB'),\n",
              " ('a', 'DT'),\n",
              " ('disproportionate', 'NN'),\n",
              " ('burden', 'NN'),\n",
              " (\"''\", \"''\"),\n",
              " ('on', 'IN'),\n",
              " ('Fulton', 'NNP'),\n",
              " ('taxpayers', 'NNS'),\n",
              " ('.', '.'),\n",
              " ('The', 'DT'),\n",
              " ('jury', 'NN'),\n",
              " ('also', 'RB'),\n",
              " ('commented', 'VBN'),\n",
              " ('on', 'IN'),\n",
              " ('the', 'DT'),\n",
              " ('Fulton', 'NNP'),\n",
              " (\"ordinary's\", 'MD'),\n",
              " ('court', 'NN'),\n",
              " ('which', 'WDT'),\n",
              " ('has', 'VBZ'),\n",
              " ('been', 'VBN'),\n",
              " ('under', 'IN'),\n",
              " ('fire', 'NN'),\n",
              " ('for', 'IN'),\n",
              " ('its', 'PRP$'),\n",
              " ('practices', 'NNS'),\n",
              " ('in', 'IN'),\n",
              " ('the', 'DT'),\n",
              " ('appointment', 'NN'),\n",
              " ('of', 'IN'),\n",
              " ('appraisers', 'NNS'),\n",
              " (',', ','),\n",
              " ('guardians', 'NNS'),\n",
              " ('and', 'CC'),\n",
              " ('administrators', 'NNS'),\n",
              " ('and', 'CC'),\n",
              " ('the', 'DT'),\n",
              " ('awarding', 'NN'),\n",
              " ('of', 'IN'),\n",
              " ('fees', 'NNS'),\n",
              " ('and', 'CC'),\n",
              " ('compensation', 'NN'),\n",
              " ('.', '.'),\n",
              " ('Wards', 'NNS'),\n",
              " ('protected', 'VBD'),\n",
              " ('The', 'DT'),\n",
              " ('jury', 'NN'),\n",
              " ('said', 'VBD'),\n",
              " ('it', 'PRP'),\n",
              " ('found', 'VBD'),\n",
              " ('the', 'DT'),\n",
              " ('court', 'NN'),\n",
              " ('``', '``'),\n",
              " ('has', 'VBZ'),\n",
              " ('incorporated', 'VBN'),\n",
              " ('into', 'IN'),\n",
              " ('its', 'PRP$'),\n",
              " ('operating', 'NN'),\n",
              " ('procedures', 'VBZ'),\n",
              " ('the', 'DT'),\n",
              " ('recommendations', 'NNS'),\n",
              " (\"''\", \"''\"),\n",
              " ('of', 'IN'),\n",
              " ('two', 'CD'),\n",
              " ('previous', 'JJ'),\n",
              " ('grand', 'JJ'),\n",
              " ('juries', 'NNS'),\n",
              " (',', ','),\n",
              " ('the', 'DT'),\n",
              " ('Atlanta', 'NNP'),\n",
              " ('Bar', 'NNP'),\n",
              " ('Association', 'NNP'),\n",
              " ('and', 'CC'),\n",
              " ('an', 'DT'),\n",
              " ('interim', 'JJ'),\n",
              " ('citizens', 'NNS'),\n",
              " ('committee', 'NN'),\n",
              " ('.', '.'),\n",
              " ('``', '``'),\n",
              " ('These', 'DT'),\n",
              " ('actions', 'NNS'),\n",
              " ('should', 'MD'),\n",
              " ('serve', 'VB'),\n",
              " ('to', 'TO'),\n",
              " ('protect', 'VB'),\n",
              " ('in', 'IN'),\n",
              " ('fact', 'NN'),\n",
              " ('and', 'CC'),\n",
              " ('in', 'IN'),\n",
              " ('effect', 'NN'),\n",
              " ('the', 'DT'),\n",
              " (\"court's\", 'NN'),\n",
              " ('wards', 'NNS'),\n",
              " ('from', 'IN'),\n",
              " ('undue', 'JJ'),\n",
              " ('costs', 'NNS'),\n",
              " ('and', 'CC'),\n",
              " ('its', 'PRP$'),\n",
              " ('appointed', 'VBN'),\n",
              " ('and', 'CC'),\n",
              " ('elected', 'VBN'),\n",
              " ('servants', 'NNS'),\n",
              " ('from', 'IN'),\n",
              " ('unmeritorious', 'JJ'),\n",
              " ('criticisms', 'NNS'),\n",
              " (\"''\", \"''\"),\n",
              " (',', ','),\n",
              " ('the', 'DT'),\n",
              " ('jury', 'NN'),\n",
              " ('said', 'VBD'),\n",
              " ('.', '.'),\n",
              " ('Regarding', 'VBG'),\n",
              " (\"Atlanta's\", 'NNP'),\n",
              " ('new', 'JJ'),\n",
              " ('multi-million-dollar', 'JJ'),\n",
              " ('airport', 'NN'),\n",
              " (',', ','),\n",
              " ('the', 'DT'),\n",
              " ('jury', 'NN'),\n",
              " ('recommended', 'VBD'),\n",
              " ('``', '``'),\n",
              " ('that', 'IN'),\n",
              " ('when', 'WRB'),\n",
              " ('the', 'DT'),\n",
              " ('new', 'JJ'),\n",
              " ('management', 'NN'),\n",
              " ('takes', 'VBZ'),\n",
              " ('charge', 'NN'),\n",
              " ('Jan.', 'NNP'),\n",
              " ('1', 'CD'),\n",
              " ('the', 'DT'),\n",
              " ('airport', 'NN'),\n",
              " ('be', 'VB'),\n",
              " ('operated', 'VBN'),\n",
              " ('in', 'IN'),\n",
              " ('a', 'DT'),\n",
              " ('manner', 'NN'),\n",
              " ('that', 'WDT'),\n",
              " ('will', 'MD'),\n",
              " ('eliminate', 'VB'),\n",
              " ('political', 'JJ'),\n",
              " ('influences', 'NNS'),\n",
              " (\"''\", \"''\"),\n",
              " ('.', '.'),\n",
              " ('The', 'DT'),\n",
              " ('jury', 'NN'),\n",
              " ('did', 'VBD'),\n",
              " ('not', 'RB'),\n",
              " ('elaborate', 'JJ'),\n",
              " (',', ','),\n",
              " ('but', 'CC'),\n",
              " ('it', 'PRP'),\n",
              " ('added', 'VBD'),\n",
              " ('that', 'IN'),\n",
              " ('``', '``'),\n",
              " ('there', 'EX'),\n",
              " ('should', 'MD'),\n",
              " ('be', 'VB'),\n",
              " ('periodic', 'JJ'),\n",
              " ('surveillance', 'NN'),\n",
              " ('of', 'IN'),\n",
              " ('the', 'DT'),\n",
              " ('pricing', 'NN'),\n",
              " ('practices', 'NNS'),\n",
              " ('of', 'IN'),\n",
              " ('the', 'DT'),\n",
              " ('concessionaires', 'NNS'),\n",
              " ('for', 'IN'),\n",
              " ('the', 'DT'),\n",
              " ('purpose', 'NN'),\n",
              " ('of', 'IN'),\n",
              " ('keeping', 'VBG'),\n",
              " ('the', 'DT'),\n",
              " ('prices', 'NNS'),\n",
              " ('reasonable', 'JJ'),\n",
              " (\"''\", \"''\"),\n",
              " ('.', '.'),\n",
              " ('Ask', 'NNP'),\n",
              " ('jail', 'NN'),\n",
              " ('deputies', 'NNS'),\n",
              " ('On', 'IN'),\n",
              " ('other', 'JJ'),\n",
              " ('matters', 'NNS'),\n",
              " (',', ','),\n",
              " ('the', 'DT'),\n",
              " ('jury', 'NN'),\n",
              " ('recommended', 'VBD'),\n",
              " ('that', 'IN'),\n",
              " (':', ':'),\n",
              " ('(', '('),\n",
              " ('1', 'CD'),\n",
              " (')', ')'),\n",
              " ('Four', 'CD'),\n",
              " ('additional', 'JJ'),\n",
              " ('deputies', 'NNS'),\n",
              " ('be', 'VB'),\n",
              " ('employed', 'VBN'),\n",
              " ('at', 'IN'),\n",
              " ('the', 'DT'),\n",
              " ('Fulton', 'NNP'),\n",
              " ('County', 'NNP'),\n",
              " ('Jail', 'NNP'),\n",
              " ('and', 'CC'),\n",
              " ('``', '``'),\n",
              " ('a', 'DT'),\n",
              " ('doctor', 'NN'),\n",
              " (',', ','),\n",
              " ('medical', 'JJ'),\n",
              " ('intern', 'NN'),\n",
              " ('or', 'CC'),\n",
              " ('extern', 'JJ'),\n",
              " ('be', 'VB'),\n",
              " ('employed', 'VBN'),\n",
              " ('for', 'IN'),\n",
              " ('night', 'NN'),\n",
              " ('and', 'CC'),\n",
              " ('weekend', 'NN'),\n",
              " ('duty', 'NN'),\n",
              " ('at', 'IN'),\n",
              " ('the', 'DT'),\n",
              " ('jail', 'NN'),\n",
              " (\"''\", \"''\"),\n",
              " ('.', '.'),\n",
              " ('(', '('),\n",
              " ('2', 'CD'),\n",
              " (')', ')'),\n",
              " ('Fulton', 'NNP'),\n",
              " ('legislators', 'VBZ'),\n",
              " ('``', '``'),\n",
              " ('work', 'NN'),\n",
              " ('with', 'IN'),\n",
              " ('city', 'NN'),\n",
              " ('officials', 'NNS'),\n",
              " ('to', 'TO'),\n",
              " ('pass', 'VB'),\n",
              " ('enabling', 'VBG'),\n",
              " ('legislation', 'NN'),\n",
              " ('that', 'WDT'),\n",
              " ('will', 'MD'),\n",
              " ('permit', 'VB'),\n",
              " ('the', 'DT'),\n",
              " ('establishment', 'NN'),\n",
              " ('of', 'IN'),\n",
              " ('a', 'DT'),\n",
              " ('fair', 'JJ'),\n",
              " ('and', 'CC'),\n",
              " ('equitable', 'JJ'),\n",
              " (\"''\", \"''\"),\n",
              " ('pension', 'NN'),\n",
              " ('plan', 'NN'),\n",
              " ('for', 'IN'),\n",
              " ('city', 'NN'),\n",
              " ('employes', 'NNS'),\n",
              " ('.', '.'),\n",
              " ('The', 'DT'),\n",
              " ('jury', 'NN'),\n",
              " ('praised', 'VBD'),\n",
              " ('the', 'DT'),\n",
              " ('administration', 'NN'),\n",
              " ('and', 'CC'),\n",
              " ('operation', 'NN'),\n",
              " ('of', 'IN'),\n",
              " ('the', 'DT'),\n",
              " ('Atlanta', 'NNP'),\n",
              " ('Police', 'NNP'),\n",
              " ('Department', 'NNP'),\n",
              " (',', ','),\n",
              " ('the', 'DT'),\n",
              " ('Fulton', 'NNP'),\n",
              " ('Tax', 'NNP'),\n",
              " (\"Commissioner's\", 'NNP'),\n",
              " ('Office', 'NNP'),\n",
              " (',', ','),\n",
              " ('the', 'DT'),\n",
              " ('Bellwood', 'NNP'),\n",
              " ('and', 'CC'),\n",
              " ('Alpharetta', 'NNP'),\n",
              " ('prison', 'NN'),\n",
              " ('farms', 'NNS'),\n",
              " (',', ','),\n",
              " ('Grady', 'NNP'),\n",
              " ('Hospital', 'NNP'),\n",
              " ('and', 'CC'),\n",
              " ('the', 'DT'),\n",
              " ('Fulton', 'NNP'),\n",
              " ('Health', 'NNP'),\n",
              " ('Department', 'NNP'),\n",
              " ('.', '.'),\n",
              " ('Mayor', 'NNP'),\n",
              " ('William', 'NNP'),\n",
              " ('B.', 'NNP'),\n",
              " ('Hartsfield', 'NNP'),\n",
              " ('filed', 'VBD'),\n",
              " ('suit', 'NN'),\n",
              " ('for', 'IN'),\n",
              " ('divorce', 'NN'),\n",
              " ('from', 'IN'),\n",
              " ('his', 'PRP$'),\n",
              " ('wife', 'NN'),\n",
              " (',', ','),\n",
              " ('Pearl', 'NNP'),\n",
              " ('Williams', 'NNP'),\n",
              " ('Hartsfield', 'NNP'),\n",
              " (',', ','),\n",
              " ('in', 'IN'),\n",
              " ('Fulton', 'NNP'),\n",
              " ('Superior', 'NNP'),\n",
              " ('Court', 'NNP'),\n",
              " ('Friday', 'NNP'),\n",
              " ('.', '.'),\n",
              " ('His', 'PRP$'),\n",
              " ('petition', 'NN'),\n",
              " ('charged', 'VBN'),\n",
              " ('mental', 'JJ'),\n",
              " ('cruelty', 'NN'),\n",
              " ('.', '.'),\n",
              " ('The', 'DT'),\n",
              " ('couple', 'NN'),\n",
              " ('was', 'VBD'),\n",
              " ('married', 'VBN'),\n",
              " ('Aug.', 'NNP'),\n",
              " ('2', 'CD'),\n",
              " (',', ','),\n",
              " ('1913', 'CD'),\n",
              " ('.', '.'),\n",
              " ('They', 'PRP'),\n",
              " ('have', 'VBP'),\n",
              " ('a', 'DT'),\n",
              " ('son', 'NN'),\n",
              " (',', ','),\n",
              " ('William', 'NNP'),\n",
              " ('Berry', 'NNP'),\n",
              " ('Jr.', 'NNP'),\n",
              " (',', ','),\n",
              " ('and', 'CC'),\n",
              " ('a', 'DT'),\n",
              " ('daughter', 'NN'),\n",
              " (',', ','),\n",
              " ('Mrs.', 'NNP'),\n",
              " ('J.', 'NNP'),\n",
              " ('M.', 'NNP'),\n",
              " ('Cheshire', 'NNP'),\n",
              " ('of', 'IN'),\n",
              " ('Griffin', 'NNP'),\n",
              " ('.', '.'),\n",
              " ('Attorneys', 'NNP'),\n",
              " ('for', 'IN'),\n",
              " ('the', 'DT'),\n",
              " ('mayor', 'NN'),\n",
              " ('said', 'VBD'),\n",
              " ('that', 'IN'),\n",
              " ('an', 'DT'),\n",
              " ('amicable', 'JJ'),\n",
              " ('property', 'NN'),\n",
              " ('settlement', 'NN'),\n",
              " ('has', 'VBZ'),\n",
              " ('been', 'VBN'),\n",
              " ('agreed', 'VBN'),\n",
              " ('upon', 'IN'),\n",
              " ('.', '.'),\n",
              " ('The', 'DT'),\n",
              " ('petition', 'NN'),\n",
              " ('listed', 'VBD'),\n",
              " ('the', 'DT'),\n",
              " (\"mayor's\", 'JJ'),\n",
              " ('occupation', 'NN'),\n",
              " ('as', 'IN'),\n",
              " ('``', '``'),\n",
              " ('attorney', 'NN'),\n",
              " (\"''\", \"''\"),\n",
              " ('and', 'CC'),\n",
              " ('his', 'PRP$'),\n",
              " ('age', 'NN'),\n",
              " ('as', 'IN'),\n",
              " ('71', 'CD'),\n",
              " ('.', '.'),\n",
              " ('It', 'PRP'),\n",
              " ('listed', 'VBD'),\n",
              " ('his', 'PRP$'),\n",
              " (\"wife's\", 'JJ'),\n",
              " ('age', 'NN'),\n",
              " ('as', 'IN'),\n",
              " ('74', 'CD'),\n",
              " ('and', 'CC'),\n",
              " ('place', 'NN'),\n",
              " ('of', 'IN'),\n",
              " ('birth', 'NN'),\n",
              " ('as', 'IN'),\n",
              " ('Opelika', 'NNP'),\n",
              " (',', ','),\n",
              " ('Ala.', 'NNP'),\n",
              " ('.', '.'),\n",
              " ('The', 'DT'),\n",
              " ('petition', 'NN'),\n",
              " ('said', 'VBD'),\n",
              " ('that', 'IN'),\n",
              " ('the', 'DT'),\n",
              " ('couple', 'NN'),\n",
              " ('has', 'VBZ'),\n",
              " ('not', 'RB'),\n",
              " ('lived', 'VBN'),\n",
              " ('together', 'RB'),\n",
              " ('as', 'IN'),\n",
              " ('man', 'NN'),\n",
              " ('and', 'CC'),\n",
              " ('wife', 'NN'),\n",
              " ('for', 'IN'),\n",
              " ('more', 'JJR'),\n",
              " ('than', 'IN'),\n",
              " ('a', 'DT'),\n",
              " ('year', 'NN'),\n",
              " ('.', '.'),\n",
              " ('The', 'DT'),\n",
              " ('Hartsfield', 'NNP'),\n",
              " ('home', 'NN'),\n",
              " ('is', 'VBZ'),\n",
              " ('at', 'IN'),\n",
              " ('637', 'CD'),\n",
              " ('E.', 'NNP'),\n",
              " ('Pelham', 'NNP'),\n",
              " ('Rd.', 'NNP'),\n",
              " ('Aj', 'NNP'),\n",
              " ('.', '.'),\n",
              " ('Henry', 'NNP'),\n",
              " ('L.', 'NNP'),\n",
              " ('Bowden', 'NNP'),\n",
              " ('was', 'VBD'),\n",
              " ('listed', 'VBN'),\n",
              " ('on', 'IN'),\n",
              " ('the', 'DT'),\n",
              " ('petition', 'NN'),\n",
              " ('as', 'IN'),\n",
              " ('the', 'DT'),\n",
              " (\"mayor's\", 'NN'),\n",
              " ('attorney', 'NN'),\n",
              " ('.', '.'),\n",
              " ('Hartsfield', 'NNP'),\n",
              " ('has', 'VBZ'),\n",
              " ('been', 'VBN'),\n",
              " ('mayor', 'NN'),\n",
              " ('of', 'IN'),\n",
              " ('Atlanta', 'NNP'),\n",
              " (',', ','),\n",
              " ('with', 'IN'),\n",
              " ('exception', 'NN'),\n",
              " ('of', 'IN'),\n",
              " ('one', 'CD'),\n",
              " ('brief', 'NN'),\n",
              " ('interlude', 'NN'),\n",
              " (',', ','),\n",
              " ('since', 'IN'),\n",
              " ('1937', 'CD'),\n",
              " ('.', '.'),\n",
              " ('His', 'PRP$'),\n",
              " ('political', 'JJ'),\n",
              " ('career', 'NN'),\n",
              " ('goes', 'VBZ'),\n",
              " ('back', 'RB'),\n",
              " ('to', 'TO'),\n",
              " ('his', 'PRP$'),\n",
              " ('election', 'NN'),\n",
              " ('to', 'TO'),\n",
              " ('city', 'NN'),\n",
              " ('council', 'NN'),\n",
              " ('in', 'IN'),\n",
              " ('1923', 'CD'),\n",
              " ('.', '.'),\n",
              " ('The', 'DT'),\n",
              " (\"mayor's\", 'JJ'),\n",
              " ('present', 'JJ'),\n",
              " ('term', 'NN'),\n",
              " ('of', 'IN'),\n",
              " ('office', 'NN'),\n",
              " ('expires', 'VBZ'),\n",
              " ('Jan.', 'NNP'),\n",
              " ('1', 'CD'),\n",
              " ('.', '.'),\n",
              " ('He', 'PRP'),\n",
              " ('will', 'MD'),\n",
              " ('be', 'VB'),\n",
              " ('succeeded', 'VBN'),\n",
              " ('by', 'IN'),\n",
              " ('Ivan', 'NNP'),\n",
              " ('Allen', 'NNP'),\n",
              " ('Jr.', 'NNP'),\n",
              " (',', ','),\n",
              " ('who', 'WP'),\n",
              " ('became', 'VBD'),\n",
              " ('a', 'DT'),\n",
              " ('candidate', 'NN'),\n",
              " ('in', 'IN'),\n",
              " ('the', 'DT'),\n",
              " ('Sept.', 'NNP'),\n",
              " ('13', 'CD'),\n",
              " ('primary', 'NN'),\n",
              " ('after', 'IN'),\n",
              " ('Mayor', 'NNP'),\n",
              " ('Hartsfield', 'NNP'),\n",
              " ('announced', 'VBD'),\n",
              " ('that', 'IN'),\n",
              " ('he', 'PRP'),\n",
              " ('would', 'MD'),\n",
              " ('not', 'RB'),\n",
              " ('run', 'VB'),\n",
              " ('for', 'IN'),\n",
              " ('reelection', 'NN'),\n",
              " ('.', '.'),\n",
              " ('Georgia', 'NNP'),\n",
              " ('Republicans', 'NNPS'),\n",
              " ('are', 'VBP'),\n",
              " ('getting', 'VBG'),\n",
              " ('strong', 'JJ'),\n",
              " ('encouragement', 'NN'),\n",
              " ('to', 'TO'),\n",
              " ('enter', 'VB'),\n",
              " ('a', 'DT'),\n",
              " ('candidate', 'NN'),\n",
              " ('in', 'IN'),\n",
              " ('the', 'DT'),\n",
              " ('1962', 'CD'),\n",
              " (\"governor's\", 'NN'),\n",
              " ...]"
            ]
          },
          "execution_count": 4,
          "metadata": {},
          "output_type": "execute_result"
        }
      ],
      "source": [
        "from nltk.corpus import  brown\n",
        "text = brown.words(categories='news')\n",
        "nltk.pos_tag(text)\n"
      ]
    },
    {
      "cell_type": "markdown",
      "metadata": {
        "id": "7M7rrPy8rqPo"
      },
      "source": [
        "Printing words and tagged words"
      ]
    },
    {
      "cell_type": "code",
      "execution_count": null,
      "metadata": {
        "colab": {
          "base_uri": "https://localhost:8080/"
        },
        "id": "TnMOGncCrsDZ",
        "outputId": "55c03ec7-5ff5-410b-d727-f6f245da9865"
      },
      "outputs": [
        {
          "name": "stdout",
          "output_type": "stream",
          "text": [
            "[('The', 'AT'), ('Fulton', 'NP-TL'), ...]\n"
          ]
        },
        {
          "name": "stderr",
          "output_type": "stream",
          "text": [
            "[nltk_data] Downloading package universal_tagset to /root/nltk_data...\n",
            "[nltk_data]   Package universal_tagset is already up-to-date!\n"
          ]
        },
        {
          "data": {
            "text/plain": [
              "[('The', 'DET'), ('Fulton', 'NOUN'), ...]"
            ]
          },
          "execution_count": 24,
          "metadata": {},
          "output_type": "execute_result"
        }
      ],
      "source": [
        "nltk.download('universal_tagset')\n",
        "print(nltk.corpus.brown.tagged_words())\n",
        "nltk.corpus.brown.tagged_words(tagset='universal')"
      ]
    },
    {
      "cell_type": "markdown",
      "metadata": {
        "id": "vgh1wER85KER"
      },
      "source": [
        "Printing the tag and its frequencies"
      ]
    },
    {
      "cell_type": "code",
      "execution_count": null,
      "metadata": {
        "colab": {
          "base_uri": "https://localhost:8080/"
        },
        "id": "pcQaT5Ly5YAp",
        "outputId": "26f4e74e-29ab-4b18-87c3-2753900fec56"
      },
      "outputs": [
        {
          "data": {
            "text/plain": [
              "[('NOUN', 30654),\n",
              " ('VERB', 14399),\n",
              " ('ADP', 12355),\n",
              " ('.', 11928),\n",
              " ('DET', 11389),\n",
              " ('ADJ', 6706),\n",
              " ('ADV', 3349),\n",
              " ('CONJ', 2717),\n",
              " ('PRON', 2535),\n",
              " ('PRT', 2264),\n",
              " ('NUM', 2166),\n",
              " ('X', 92)]"
            ]
          },
          "execution_count": 29,
          "metadata": {},
          "output_type": "execute_result"
        }
      ],
      "source": [
        "text = brown.words(categories='news')\n",
        "brown_news_tagged = brown.tagged_words(categories='news', tagset='universal')\n",
        "tag_fd = nltk.FreqDist(tag for (word, tag) in brown_news_tagged)\n",
        "tag_fd.most_common()"
      ]
    },
    {
      "cell_type": "markdown",
      "metadata": {
        "id": "Uohc_kJg-Qeh"
      },
      "source": [
        "Displaying the frequency of every word in category news in brown as a graph"
      ]
    },
    {
      "cell_type": "code",
      "execution_count": null,
      "metadata": {
        "colab": {
          "base_uri": "https://localhost:8080/",
          "height": 416
        },
        "id": "hfLWDMRe-bJS",
        "outputId": "980b1a23-02d8-4261-d37e-06f56bb02c6a"
      },
      "outputs": [
        {
          "data": {
            "image/png": "[encoded data removed]",
            "text/plain": [
              "<Figure size 432x288 with 1 Axes>"
            ]
          },
          "metadata": {
            "needs_background": "light"
          },
          "output_type": "display_data"
        },
        {
          "data": {
            "text/plain": [
              "<matplotlib.axes._subplots.AxesSubplot at 0x7fd0555c6dc0>"
            ]
          },
          "execution_count": 5,
          "metadata": {},
          "output_type": "execute_result"
        }
      ],
      "source": [
        "single_no8 = brown.words(categories='news')\n",
        "fd = nltk.FreqDist(single_no8)\n",
        "fd.plot()"
      ]
    },
    {
      "cell_type": "markdown",
      "metadata": {
        "id": "l1aNh1lcPoaW"
      },
      "source": [
        "2. 2. Parsed"
      ]
    },
    {
      "cell_type": "markdown",
      "metadata": {
        "id": "IuIIq8yjQXpd"
      },
      "source": [
        "Program for creating trees from the given grammer"
      ]
    },
    {
      "cell_type": "code",
      "execution_count": null,
      "metadata": {
        "colab": {
          "base_uri": "https://localhost:8080/"
        },
        "id": "B1jUDT5DPz9V",
        "outputId": "63145ccb-b8ed-45ed-ea4b-b8d0c3be508d"
      },
      "outputs": [
        {
          "name": "stdout",
          "output_type": "stream",
          "text": [
            "(S\n",
            "  (NP I)\n",
            "  (VP\n",
            "    (VP (V shot) (NP (Det an) (N elephant)))\n",
            "    (PP (P in) (NP (Det my) (N pajamas)))))\n",
            "(S\n",
            "  (NP I)\n",
            "  (VP\n",
            "    (V shot)\n",
            "    (NP (Det an) (N elephant) (PP (P in) (NP (Det my) (N pajamas))))))\n"
          ]
        }
      ],
      "source": [
        "grammar = nltk.CFG.fromstring(\"\"\"\n",
        "    S -> NP VP\n",
        "    PP -> P NP\n",
        "    NP -> Det N | Det N PP | 'I'\n",
        "    VP -> V NP | VP PP\n",
        "    Det -> 'an' | 'my'\n",
        "    N -> 'elephant' | 'pajamas'\n",
        "    V -> 'shot'\n",
        "    P -> 'in'\n",
        "    \"\"\")\n",
        "sent = ['I', 'shot', 'an', 'elephant', 'in', 'my', 'pajamas']\n",
        "parser = nltk.ChartParser(grammar)\n",
        "for tree in parser.parse(sent):\n",
        "     print(tree)\n"
      ]
    },
    {
      "cell_type": "markdown",
      "metadata": {
        "id": "puqxJrqKQtVW"
      },
      "source": [
        "Here, There exist two different derivation trees possible hence it is ambiguity\n",
        "\n",
        "Visual representation\n",
        "\n",
        "![image.png](data:image/png;base64,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)"
      ]
    },
    {
      "cell_type": "markdown",
      "metadata": {
        "id": "VfripsJ0R57-"
      },
      "source": [
        "Parsing with context free grammer"
      ]
    },
    {
      "cell_type": "code",
      "execution_count": null,
      "metadata": {
        "colab": {
          "base_uri": "https://localhost:8080/"
        },
        "id": "woRv7fiWR-0d",
        "outputId": "d1a23b7e-b9ea-49f2-9213-5980e562d60e"
      },
      "outputs": [
        {
          "name": "stdout",
          "output_type": "stream",
          "text": [
            "(S (NP Mary) (VP (V saw) (NP Bob)))\n"
          ]
        }
      ],
      "source": [
        "grammar1 = nltk.CFG.fromstring(\"\"\"\n",
        "  S -> NP VP\n",
        "  VP -> V NP | V NP PP\n",
        "  PP -> P NP\n",
        "  V -> \"saw\" | \"ate\" | \"walked\"\n",
        "  NP -> \"John\" | \"Mary\" | \"Bob\" | Det N | Det N PP\n",
        "  Det -> \"a\" | \"an\" | \"the\" | \"my\"\n",
        "  N -> \"man\" | \"dog\" | \"cat\" | \"telescope\" | \"park\"\n",
        "  P -> \"in\" | \"on\" | \"by\" | \"with\"\n",
        "  \"\"\")\n",
        "sent = \"Mary saw Bob\".split()\n",
        "rd_parser = nltk.RecursiveDescentParser(grammar1)\n",
        "for tree in rd_parser.parse(sent):\n",
        "    print(tree)"
      ]
    },
    {
      "cell_type": "markdown",
      "metadata": {
        "id": "DRQOGw_fTHHP"
      },
      "source": [
        "Displaying dependency graph"
      ]
    },
    {
      "cell_type": "code",
      "execution_count": null,
      "metadata": {
        "colab": {
          "base_uri": "https://localhost:8080/"
        },
        "id": "ESpyOD_6TLiG",
        "outputId": "40e415b9-57ef-42b0-deaa-1f668f4d48f5"
      },
      "outputs": [
        {
          "name": "stdout",
          "output_type": "stream",
          "text": [
            "Dependency grammar with 7 productions\n",
            "  'shot' -> 'I'\n",
            "  'shot' -> 'elephant'\n",
            "  'shot' -> 'in'\n",
            "  'elephant' -> 'an'\n",
            "  'elephant' -> 'in'\n",
            "  'in' -> 'pajamas'\n",
            "  'pajamas' -> 'my'\n",
            "(shot I (elephant an (in (pajamas my))))\n",
            "(shot I (elephant an) (in (pajamas my)))\n"
          ]
        }
      ],
      "source": [
        "groucho_dep_grammar = nltk.DependencyGrammar.fromstring(\"\"\"\n",
        "    'shot' -> 'I' | 'elephant' | 'in'\n",
        "    'elephant' -> 'an' | 'in'\n",
        "    'in' -> 'pajamas'\n",
        "    'pajamas' -> 'my'\n",
        "    \"\"\")\n",
        "print(groucho_dep_grammar)           #dependecy grammar\n",
        "pdp = nltk.ProjectiveDependencyParser(groucho_dep_grammar)\n",
        "sent = 'I shot an elephant in my pajamas'.split()\n",
        "trees = pdp.parse(sent)\n",
        "for tree in trees:\n",
        "     print(tree)"
      ]
    },
    {
      "cell_type": "markdown",
      "metadata": {
        "id": "QyGYEzaRTsDF"
      },
      "source": [
        "Visual Representation"
      ]
    },
    {
      "cell_type": "markdown",
      "metadata": {
        "id": "F8rpS--6Tomt"
      },
      "source": [
        "![image.png](data:image/png;base64,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)"
      ]
    },
    {
      "cell_type": "markdown",
      "metadata": {
        "id": "w6-9Uk5PTIQT"
      },
      "source": [
        "3. Create a text corpus with a minimum of 200 words (unique content). Implement the\n",
        "following text processing\n",
        "(05 Marks)\n",
        "\n",
        "• Word segmentation\n",
        "\n",
        "• Sentence segmentation\n",
        "\n",
        "• Convert to Lowercase\n",
        "\n",
        "• Stop words removal\n",
        "\n",
        "• Stemming\n",
        "\n",
        "• Lemmatization\n",
        "\n",
        "• Part of speech tagger"
      ]
    },
    {
      "cell_type": "markdown",
      "metadata": {
        "id": "MLUt0u0yy-y0"
      },
      "source": [
        "Word segmentation"
      ]
    },
    {
      "cell_type": "code",
      "execution_count": null,
      "metadata": {
        "colab": {
          "base_uri": "https://localhost:8080/"
        },
        "id": "ceOcrMscTYn9",
        "outputId": "6d03b098-fd93-4bfa-e117-5d3935d68d7f"
      },
      "outputs": [
        {
          "name": "stdout",
          "output_type": "stream",
          "text": [
            "['India', 'is', 'a', 'secular', 'democracy', '.', 'This', 'means', 'that', 'all', 'religions', 'are', 'equally', 'respected', ',', 'and', 'every', 'person', 'is', 'free', 'to', 'follow', 'any', 'religion', 'they', 'want', '.', 'India', 'is', 'the', 'largest', 'democracy', 'in', 'the', 'world', '.', 'People', 'here', 'have', 'all', 'basic', 'human', 'rights', '.', 'The', 'national', 'heritage', 'animal', 'of', 'India', 'is', 'an', 'Indian', 'Elephant', '.', 'The', 'national', 'river', 'of', 'India', 'is', 'the', 'Ganges', '.', 'The', 'Ganges', 'is', 'the', 'sacred', 'Hindu', 'river', ',', 'which', 'is', 'so', 'sacred', 'that', 'it', 'is', 'believed', 'to', 'wash', 'the', 'sins', 'of', 'people', 'away', '.', 'The', 'highest', 'civilian', 'award', 'in', 'India', 'is', 'the', 'Bharat', 'Ratna', ',', 'which', 'means', '‘', 'jewel', 'of', 'India', '’', '.', 'The', 'most', 'prominent', 'personalities', 'of', 'India', 'who', 'serve', 'with', 'excellency', 'is', 'their', 'field', 'of', 'work', 'with', 'dedication', ',', 'and', 'hard', 'work', 'earns', 'this', 'award', '.', 'The', 'Param', 'Vir', 'Chakra', 'is', 'India', '’', 's', 'highest', 'military', 'decoration', 'awarded', 'for', 'displaying', 'bravery', '.', 'The', 'soldiers', 'who', 'have', 'their', 'life', 'online', 'to', 'protect', 'the', 'citizens', 'are', 'the', 'heroes', 'of', 'India', '.', 'The', 'first', 'prime', 'minister', 'of', 'India', 'was', 'Pandit', 'Jawaharlal', 'Nehru', ',', 'also', 'called', 'as', 'Pandit', 'Nehru', 'or', 'Chacha', 'Nehru', '.', 'The', 'first', 'President', 'of', 'India', 'was', 'Dr.', 'Rajendra', 'Prasad', 'by', 'the', 'constituent', 'assembly', '.', 'He', 'was', 'a', 'member', 'of', 'the', 'INC', '(', 'Indian', 'National', 'Congress', ')', ',', 'and', 'he', 'was', 'a', 'scholar', '.', 'Mohandas', 'Karamchand', 'Gandhi', ',', 'lovingly', 'known', 'as', 'Bapujii', 'or', 'Mahatma', 'Gandhi', ',', 'is', 'the', 'Father', 'of', 'our', 'Nation', '.', 'He', 'is', 'the', 'most', 'recognized', 'figure', 'worldwide', ',', 'best', 'known', 'for', 'his', 'contribution', 'to', 'the', 'independence', 'of', 'the', 'country', 'by', 'non-violence', '.', 'Rabindranath', 'Tagore', 'won', 'the', 'Nobel', 'Prize', 'in', 'Literature', 'in', 'the', 'year', '1913', ',', 'and', 'he', 'is', 'one', 'of', 'the', 'most', 'eminent', 'personalities', 'in', 'India', '.']\n"
          ]
        }
      ],
      "source": [
        "from nltk import sent_tokenize, word_tokenize\n",
        "para = \"India is a secular democracy. This means that all religions are equally respected, and every person is free to follow any religion they want. India is the largest democracy in the world. People here have all basic human rights. The national heritage animal of India is an Indian Elephant. The national river of India is the Ganges. The Ganges is the sacred Hindu river, which is so sacred that it is believed to wash the sins of people away. The highest civilian award in India is the Bharat Ratna, which means ‘jewel of India’. The most prominent personalities of India who serve with excellency is their field of work with dedication, and hard work earns this award. The Param Vir Chakra is India’s highest military decoration awarded for displaying bravery. The soldiers who have their life online to protect the citizens are the heroes of India. The first prime minister of India was Pandit Jawaharlal Nehru, also called as Pandit Nehru or Chacha Nehru. The first President of India was Dr. Rajendra Prasad by the constituent assembly. He was a member of the INC (Indian National Congress), and he was a scholar. Mohandas Karamchand Gandhi, lovingly known as Bapujii or Mahatma Gandhi, is the Father of our Nation. He is the most recognized figure worldwide, best known for his contribution to the independence of the country by non-violence. Rabindranath Tagore won the Nobel Prize in Literature in the year 1913, and he is one of the most eminent personalities in India.\"\n",
        "word_seg=word_tokenize(para)\n",
        "print(word_seg)"
      ]
    },
    {
      "cell_type": "markdown",
      "metadata": {
        "id": "Zr8fYq-10noM"
      },
      "source": [
        "Sentence segmentation"
      ]
    },
    {
      "cell_type": "code",
      "execution_count": null,
      "metadata": {
        "colab": {
          "base_uri": "https://localhost:8080/"
        },
        "id": "4q9-OcCn0onb",
        "outputId": "96a69fed-8294-4f1c-ed57-d1f1cf2042f1"
      },
      "outputs": [
        {
          "name": "stdout",
          "output_type": "stream",
          "text": [
            "['India is a secular democracy.', 'This means that all religions are equally respected, and every person is free to follow any religion they want.', 'India is the largest democracy in the world.', 'People here have all basic human rights.', 'The national heritage animal of India is an Indian Elephant.', 'The national river of India is the Ganges.', 'The Ganges is the sacred Hindu river, which is so sacred that it is believed to wash the sins of people away.', 'The highest civilian award in India is the Bharat Ratna, which means ‘jewel of India’.', 'The most prominent personalities of India who serve with excellency is their field of work with dedication, and hard work earns this award.', 'The Param Vir Chakra is India’s highest military decoration awarded for displaying bravery.', 'The soldiers who have their life online to protect the citizens are the heroes of India.', 'The first prime minister of India was Pandit Jawaharlal Nehru, also called as Pandit Nehru or Chacha Nehru.', 'The first President of India was Dr. Rajendra Prasad by the constituent assembly.', 'He was a member of the INC (Indian National Congress), and he was a scholar.', 'Mohandas Karamchand Gandhi, lovingly known as Bapujii or Mahatma Gandhi, is the Father of our Nation.', 'He is the most recognized figure worldwide, best known for his contribution to the independence of the country by non-violence.', 'Rabindranath Tagore won the Nobel Prize in Literature in the year 1913, and he is one of the most eminent personalities in India.']\n"
          ]
        }
      ],
      "source": [
        "print(sent_tokenize(para))"
      ]
    },
    {
      "cell_type": "markdown",
      "metadata": {
        "id": "6AadvQ1203PE"
      },
      "source": [
        "Convert to Lowercase"
      ]
    },
    {
      "cell_type": "code",
      "execution_count": null,
      "metadata": {
        "colab": {
          "base_uri": "https://localhost:8080/"
        },
        "id": "9G4m1EHa05f6",
        "outputId": "9b1a7460-10b3-47e9-c8ac-2811e6282df3"
      },
      "outputs": [
        {
          "name": "stdout",
          "output_type": "stream",
          "text": [
            "['india', 'is', 'a', 'secular', 'democracy', '.', 'this', 'means', 'that', 'all', 'religions', 'are', 'equally', 'respected', ',', 'and', 'every', 'person', 'is', 'free', 'to', 'follow', 'any', 'religion', 'they', 'want', '.', 'india', 'is', 'the', 'largest', 'democracy', 'in', 'the', 'world', '.', 'people', 'here', 'have', 'all', 'basic', 'human', 'rights', '.', 'the', 'national', 'heritage', 'animal', 'of', 'india', 'is', 'an', 'indian', 'elephant', '.', 'the', 'national', 'river', 'of', 'india', 'is', 'the', 'ganges', '.', 'the', 'ganges', 'is', 'the', 'sacred', 'hindu', 'river', ',', 'which', 'is', 'so', 'sacred', 'that', 'it', 'is', 'believed', 'to', 'wash', 'the', 'sins', 'of', 'people', 'away', '.', 'the', 'highest', 'civilian', 'award', 'in', 'india', 'is', 'the', 'bharat', 'ratna', ',', 'which', 'means', '‘', 'jewel', 'of', 'india', '’', '.', 'the', 'most', 'prominent', 'personalities', 'of', 'india', 'who', 'serve', 'with', 'excellency', 'is', 'their', 'field', 'of', 'work', 'with', 'dedication', ',', 'and', 'hard', 'work', 'earns', 'this', 'award', '.', 'the', 'param', 'vir', 'chakra', 'is', 'india', '’', 's', 'highest', 'military', 'decoration', 'awarded', 'for', 'displaying', 'bravery', '.', 'the', 'soldiers', 'who', 'have', 'their', 'life', 'online', 'to', 'protect', 'the', 'citizens', 'are', 'the', 'heroes', 'of', 'india', '.', 'the', 'first', 'prime', 'minister', 'of', 'india', 'was', 'pandit', 'jawaharlal', 'nehru', ',', 'also', 'called', 'as', 'pandit', 'nehru', 'or', 'chacha', 'nehru', '.', 'the', 'first', 'president', 'of', 'india', 'was', 'dr.', 'rajendra', 'prasad', 'by', 'the', 'constituent', 'assembly', '.', 'he', 'was', 'a', 'member', 'of', 'the', 'inc', '(', 'indian', 'national', 'congress', ')', ',', 'and', 'he', 'was', 'a', 'scholar', '.', 'mohandas', 'karamchand', 'gandhi', ',', 'lovingly', 'known', 'as', 'bapujii', 'or', 'mahatma', 'gandhi', ',', 'is', 'the', 'father', 'of', 'our', 'nation', '.', 'he', 'is', 'the', 'most', 'recognized', 'figure', 'worldwide', ',', 'best', 'known', 'for', 'his', 'contribution', 'to', 'the', 'independence', 'of', 'the', 'country', 'by', 'non-violence', '.', 'rabindranath', 'tagore', 'won', 'the', 'nobel', 'prize', 'in', 'literature', 'in', 'the', 'year', '1913', ',', 'and', 'he', 'is', 'one', 'of', 'the', 'most', 'eminent', 'personalities', 'in', 'india', '.']\n",
            "['india is a secular democracy.', 'this means that all religions are equally respected, and every person is free to follow any religion they want.', 'india is the largest democracy in the world.', 'people here have all basic human rights.', 'the national heritage animal of india is an indian elephant.', 'the national river of india is the ganges.', 'the ganges is the sacred hindu river, which is so sacred that it is believed to wash the sins of people away.', 'the highest civilian award in india is the bharat ratna, which means ‘jewel of india’.', 'the most prominent personalities of india who serve with excellency is their field of work with dedication, and hard work earns this award.', 'the param vir chakra is india’s highest military decoration awarded for displaying bravery.', 'the soldiers who have their life online to protect the citizens are the heroes of india.', 'the first prime minister of india was pandit jawaharlal nehru, also called as pandit nehru or chacha nehru.', 'the first president of india was dr. rajendra prasad by the constituent assembly.', 'he was a member of the inc (indian national congress), and he was a scholar.', 'mohandas karamchand gandhi, lovingly known as bapujii or mahatma gandhi, is the father of our nation.', 'he is the most recognized figure worldwide, best known for his contribution to the independence of the country by non-violence.', 'rabindranath tagore won the nobel prize in literature in the year 1913, and he is one of the most eminent personalities in india.']\n"
          ]
        }
      ],
      "source": [
        "word_seg_lower=[]\n",
        "for i in word_seg:\n",
        "     k=i.lower()\n",
        "     word_seg_lower.append(k)\n",
        "print(word_seg_lower)       #word segmentation in lower case\n",
        "sent_seg_lower=[]\n",
        "for i in sent_tokenize(para):\n",
        "     l=i.lower()\n",
        "     sent_seg_lower.append(l)\n",
        "print(sent_seg_lower)      #sentence segmentation in lower case"
      ]
    },
    {
      "cell_type": "markdown",
      "metadata": {
        "id": "37vgh1MX2Igk"
      },
      "source": [
        "Stop words removal"
      ]
    },
    {
      "cell_type": "code",
      "execution_count": null,
      "metadata": {
        "colab": {
          "base_uri": "https://localhost:8080/"
        },
        "id": "qQlPhgAW2LA8",
        "outputId": "5365e9cc-ac04-469e-ce3b-d0d27ca88b93"
      },
      "outputs": [
        {
          "name": "stderr",
          "output_type": "stream",
          "text": [
            "[nltk_data] Downloading package stopwords to /root/nltk_data...\n",
            "[nltk_data]   Package stopwords is already up-to-date!\n"
          ]
        },
        {
          "data": {
            "text/plain": [
              "True"
            ]
          },
          "execution_count": 14,
          "metadata": {},
          "output_type": "execute_result"
        }
      ],
      "source": [
        "nltk.download('stopwords')\n"
      ]
    },
    {
      "cell_type": "code",
      "execution_count": null,
      "metadata": {
        "colab": {
          "base_uri": "https://localhost:8080/"
        },
        "id": "dfLDCFXa2zC7",
        "outputId": "d668478e-69ac-4c78-b494-e8da0fe6b7a2"
      },
      "outputs": [
        {
          "name": "stdout",
          "output_type": "stream",
          "text": [
            "{'couldn', 'itself', 'was', 'mustn', 'most', 'each', 'doing', 'so', 'again', \"couldn't\", 'you', 'off', \"mustn't\", 'and', 'we', 'are', 'once', 'shouldn', 'but', 'an', 'during', \"aren't\", 'it', 'or', 'while', 'only', 'other', 'will', \"didn't\", \"you're\", 'same', \"shouldn't\", 'm', 'had', 'some', 'ours', 'all', 'she', \"you'd\", 'he', 'theirs', \"wouldn't\", 'does', 'up', 'whom', 'having', 'o', 'him', 'needn', 'hadn', 'don', 'further', 'under', \"don't\", 'yourselves', 'their', 'very', 'herself', 'this', 'be', 'who', 'should', 'few', 'before', 'ma', 'no', 'being', 'as', 'above', 'me', 'with', 'can', 'd', \"hasn't\", 'wouldn', 's', 'y', 'yourself', 'won', 'hers', 'hasn', 'too', 'mightn', \"wasn't\", 'in', \"isn't\", 'am', 'your', 'on', 'both', 'were', 'didn', 'any', 'll', \"you've\", 'those', 'haven', 'them', 'have', 'through', 've', 'down', 'here', 'until', \"hadn't\", 'about', 'over', 'at', 'wasn', 'his', 'by', 'to', 'the', 'out', \"mightn't\", 'these', 'been', 'from', 'ourselves', 'ain', 'for', 'i', \"should've\", 'that', \"she's\", 'where', \"won't\", \"doesn't\", 'into', 'aren', 'if', 'yours', 'doesn', 'because', \"weren't\", 'own', 'shan', 'than', 'my', 'how', 't', 'weren', 'do', \"shan't\", 'himself', \"needn't\", 'did', 'then', 'not', 'isn', 'more', 'below', 'they', 'themselves', 'after', \"you'll\", \"it's\", 'of', 'her', 'just', 'our', 'when', 'myself', \"that'll\", 'now', 'which', 'has', 'such', 're', \"haven't\", 'what', 'against', 'a', 'is', 'why', 'nor', 'between', 'its', 'there'}\n",
            "['India', 'is', 'a', 'secular', 'democracy', '.', 'This', 'means', 'that', 'all', 'religions', 'are', 'equally', 'respected', ',', 'and', 'every', 'person', 'is', 'free', 'to', 'follow', 'any', 'religion', 'they', 'want', '.', 'India', 'is', 'the', 'largest', 'democracy', 'in', 'the', 'world', '.', 'People', 'here', 'have', 'all', 'basic', 'human', 'rights', '.', 'The', 'national', 'heritage', 'animal', 'of', 'India', 'is', 'an', 'Indian', 'Elephant', '.', 'The', 'national', 'river', 'of', 'India', 'is', 'the', 'Ganges', '.', 'The', 'Ganges', 'is', 'the', 'sacred', 'Hindu', 'river', ',', 'which', 'is', 'so', 'sacred', 'that', 'it', 'is', 'believed', 'to', 'wash', 'the', 'sins', 'of', 'people', 'away', '.', 'The', 'highest', 'civilian', 'award', 'in', 'India', 'is', 'the', 'Bharat', 'Ratna', ',', 'which', 'means', '‘', 'jewel', 'of', 'India', '’', '.', 'The', 'most', 'prominent', 'personalities', 'of', 'India', 'who', 'serve', 'with', 'excellency', 'is', 'their', 'field', 'of', 'work', 'with', 'dedication', ',', 'and', 'hard', 'work', 'earns', 'this', 'award', '.', 'The', 'Param', 'Vir', 'Chakra', 'is', 'India', '’', 's', 'highest', 'military', 'decoration', 'awarded', 'for', 'displaying', 'bravery', '.', 'The', 'soldiers', 'who', 'have', 'their', 'life', 'online', 'to', 'protect', 'the', 'citizens', 'are', 'the', 'heroes', 'of', 'India', '.', 'The', 'first', 'prime', 'minister', 'of', 'India', 'was', 'Pandit', 'Jawaharlal', 'Nehru', ',', 'also', 'called', 'as', 'Pandit', 'Nehru', 'or', 'Chacha', 'Nehru', '.', 'The', 'first', 'President', 'of', 'India', 'was', 'Dr.', 'Rajendra', 'Prasad', 'by', 'the', 'constituent', 'assembly', '.', 'He', 'was', 'a', 'member', 'of', 'the', 'INC', '(', 'Indian', 'National', 'Congress', ')', ',', 'and', 'he', 'was', 'a', 'scholar', '.', 'Mohandas', 'Karamchand', 'Gandhi', ',', 'lovingly', 'known', 'as', 'Bapujii', 'or', 'Mahatma', 'Gandhi', ',', 'is', 'the', 'Father', 'of', 'our', 'Nation', '.', 'He', 'is', 'the', 'most', 'recognized', 'figure', 'worldwide', ',', 'best', 'known', 'for', 'his', 'contribution', 'to', 'the', 'independence', 'of', 'the', 'country', 'by', 'non-violence', '.', 'Rabindranath', 'Tagore', 'won', 'the', 'Nobel', 'Prize', 'in', 'Literature', 'in', 'the', 'year', '1913', ',', 'and', 'he', 'is', 'one', 'of', 'the', 'most', 'eminent', 'personalities', 'in', 'India', '.']\n",
            "['India', 'secular', 'democracy', '.', 'means', 'religions', 'equally', 'respected', ',', 'every', 'person', 'free', 'follow', 'religion', 'want', '.', 'India', 'largest', 'democracy', 'world', '.', 'People', 'basic', 'human', 'rights', '.', 'national', 'heritage', 'animal', 'India', 'Indian', 'Elephant', '.', 'national', 'river', 'India', 'Ganges', '.', 'Ganges', 'sacred', 'Hindu', 'river', ',', 'sacred', 'believed', 'wash', 'sins', 'people', 'away', '.', 'highest', 'civilian', 'award', 'India', 'Bharat', 'Ratna', ',', 'means', '‘', 'jewel', 'India', '’', '.', 'prominent', 'personalities', 'India', 'serve', 'excellency', 'field', 'work', 'dedication', ',', 'hard', 'work', 'earns', 'award', '.', 'Param', 'Vir', 'Chakra', 'India', '’', 'highest', 'military', 'decoration', 'awarded', 'displaying', 'bravery', '.', 'soldiers', 'life', 'online', 'protect', 'citizens', 'heroes', 'India', '.', 'first', 'prime', 'minister', 'India', 'Pandit', 'Jawaharlal', 'Nehru', ',', 'also', 'called', 'Pandit', 'Nehru', 'Chacha', 'Nehru', '.', 'first', 'President', 'India', 'Dr.', 'Rajendra', 'Prasad', 'constituent', 'assembly', '.', 'member', 'INC', '(', 'Indian', 'National', 'Congress', ')', ',', 'scholar', '.', 'Mohandas', 'Karamchand', 'Gandhi', ',', 'lovingly', 'known', 'Bapujii', 'Mahatma', 'Gandhi', ',', 'Father', 'Nation', '.', 'recognized', 'figure', 'worldwide', ',', 'best', 'known', 'contribution', 'independence', 'country', 'non-violence', '.', 'Rabindranath', 'Tagore', 'Nobel', 'Prize', 'Literature', 'year', '1913', ',', 'one', 'eminent', 'personalities', 'India', '.', 'India', 'secular', 'democracy', '.', 'This', 'means', 'religions', 'equally', 'respected', ',', 'every', 'person', 'free', 'follow', 'religion', 'want', '.', 'India', 'largest', 'democracy', 'world', '.', 'People', 'basic', 'human', 'rights', '.', 'The', 'national', 'heritage', 'animal', 'India', 'Indian', 'Elephant', '.', 'The', 'national', 'river', 'India', 'Ganges', '.', 'The', 'Ganges', 'sacred', 'Hindu', 'river', ',', 'sacred', 'believed', 'wash', 'sins', 'people', 'away', '.', 'The', 'highest', 'civilian', 'award', 'India', 'Bharat', 'Ratna', ',', 'means', '‘', 'jewel', 'India', '’', '.', 'The', 'prominent', 'personalities', 'India', 'serve', 'excellency', 'field', 'work', 'dedication', ',', 'hard', 'work', 'earns', 'award', '.', 'The', 'Param', 'Vir', 'Chakra', 'India', '’', 'highest', 'military', 'decoration', 'awarded', 'displaying', 'bravery', '.', 'The', 'soldiers', 'life', 'online', 'protect', 'citizens', 'heroes', 'India', '.', 'The', 'first', 'prime', 'minister', 'India', 'Pandit', 'Jawaharlal', 'Nehru', ',', 'also', 'called', 'Pandit', 'Nehru', 'Chacha', 'Nehru', '.', 'The', 'first', 'President', 'India', 'Dr.', 'Rajendra', 'Prasad', 'constituent', 'assembly', '.', 'He', 'member', 'INC', '(', 'Indian', 'National', 'Congress', ')', ',', 'scholar', '.', 'Mohandas', 'Karamchand', 'Gandhi', ',', 'lovingly', 'known', 'Bapujii', 'Mahatma', 'Gandhi', ',', 'Father', 'Nation', '.', 'He', 'recognized', 'figure', 'worldwide', ',', 'best', 'known', 'contribution', 'independence', 'country', 'non-violence', '.', 'Rabindranath', 'Tagore', 'Nobel', 'Prize', 'Literature', 'year', '1913', ',', 'one', 'eminent', 'personalities', 'India', '.']\n"
          ]
        }
      ],
      "source": [
        "from nltk.corpus import stopwords\n",
        "from nltk.tokenize import word_tokenize\n",
        " \n",
        "stop_words = set(stopwords.words('english'))\n",
        "print(stop_words)\n",
        "word_tokens = word_tokenize(para)\n",
        "para_wo_sw = [w for w in word_tokens if not w.lower() in stop_words]\n",
        "#para_wo_sw = []\n",
        " \n",
        "for w in word_tokens:         #stop words removal\n",
        "    if w not in stop_words:\n",
        "        para_wo_sw.append(w)   \n",
        " \n",
        "print(word_tokens)          #word tokenization\n",
        "print(para_wo_sw)           #word tokenization and stop words removed"
      ]
    },
    {
      "cell_type": "markdown",
      "metadata": {
        "id": "7BlqR1nP6qMl"
      },
      "source": [
        "Stemming"
      ]
    },
    {
      "cell_type": "code",
      "execution_count": null,
      "metadata": {
        "colab": {
          "base_uri": "https://localhost:8080/"
        },
        "id": "YKZlZTk56slL",
        "outputId": "7e6870d8-57cb-4e12-a121-61f1bb3b7446"
      },
      "outputs": [
        {
          "name": "stdout",
          "output_type": "stream",
          "text": [
            "india  :  india\n",
            "is  :  is\n",
            "a  :  a\n",
            "secular  :  secular\n",
            "democracy  :  democraci\n",
            ".  :  .\n",
            "this  :  thi\n",
            "means  :  mean\n",
            "that  :  that\n",
            "all  :  all\n",
            "religions  :  religion\n",
            "are  :  are\n",
            "equally  :  equal\n",
            "respected  :  respect\n",
            ",  :  ,\n",
            "and  :  and\n",
            "every  :  everi\n",
            "person  :  person\n",
            "is  :  is\n",
            "free  :  free\n",
            "to  :  to\n",
            "follow  :  follow\n",
            "any  :  ani\n",
            "religion  :  religion\n",
            "they  :  they\n",
            "want  :  want\n",
            ".  :  .\n",
            "india  :  india\n",
            "is  :  is\n",
            "the  :  the\n",
            "largest  :  largest\n",
            "democracy  :  democraci\n",
            "in  :  in\n",
            "the  :  the\n",
            "world  :  world\n",
            ".  :  .\n",
            "people  :  peopl\n",
            "here  :  here\n",
            "have  :  have\n",
            "all  :  all\n",
            "basic  :  basic\n",
            "human  :  human\n",
            "rights  :  right\n",
            ".  :  .\n",
            "the  :  the\n",
            "national  :  nation\n",
            "heritage  :  heritag\n",
            "animal  :  anim\n",
            "of  :  of\n",
            "india  :  india\n",
            "is  :  is\n",
            "an  :  an\n",
            "indian  :  indian\n",
            "elephant  :  eleph\n",
            ".  :  .\n",
            "the  :  the\n",
            "national  :  nation\n",
            "river  :  river\n",
            "of  :  of\n",
            "india  :  india\n",
            "is  :  is\n",
            "the  :  the\n",
            "ganges  :  gang\n",
            ".  :  .\n",
            "the  :  the\n",
            "ganges  :  gang\n",
            "is  :  is\n",
            "the  :  the\n",
            "sacred  :  sacr\n",
            "hindu  :  hindu\n",
            "river  :  river\n",
            ",  :  ,\n",
            "which  :  which\n",
            "is  :  is\n",
            "so  :  so\n",
            "sacred  :  sacr\n",
            "that  :  that\n",
            "it  :  it\n",
            "is  :  is\n",
            "believed  :  believ\n",
            "to  :  to\n",
            "wash  :  wash\n",
            "the  :  the\n",
            "sins  :  sin\n",
            "of  :  of\n",
            "people  :  peopl\n",
            "away  :  away\n",
            ".  :  .\n",
            "the  :  the\n",
            "highest  :  highest\n",
            "civilian  :  civilian\n",
            "award  :  award\n",
            "in  :  in\n",
            "india  :  india\n",
            "is  :  is\n",
            "the  :  the\n",
            "bharat  :  bharat\n",
            "ratna  :  ratna\n",
            ",  :  ,\n",
            "which  :  which\n",
            "means  :  mean\n",
            "‘  :  ‘\n",
            "jewel  :  jewel\n",
            "of  :  of\n",
            "india  :  india\n",
            "’  :  ’\n",
            ".  :  .\n",
            "the  :  the\n",
            "most  :  most\n",
            "prominent  :  promin\n",
            "personalities  :  person\n",
            "of  :  of\n",
            "india  :  india\n",
            "who  :  who\n",
            "serve  :  serv\n",
            "with  :  with\n",
            "excellency  :  excel\n",
            "is  :  is\n",
            "their  :  their\n",
            "field  :  field\n",
            "of  :  of\n",
            "work  :  work\n",
            "with  :  with\n",
            "dedication  :  dedic\n",
            ",  :  ,\n",
            "and  :  and\n",
            "hard  :  hard\n",
            "work  :  work\n",
            "earns  :  earn\n",
            "this  :  thi\n",
            "award  :  award\n",
            ".  :  .\n",
            "the  :  the\n",
            "param  :  param\n",
            "vir  :  vir\n",
            "chakra  :  chakra\n",
            "is  :  is\n",
            "india  :  india\n",
            "’  :  ’\n",
            "s  :  s\n",
            "highest  :  highest\n",
            "military  :  militari\n",
            "decoration  :  decor\n",
            "awarded  :  award\n",
            "for  :  for\n",
            "displaying  :  display\n",
            "bravery  :  braveri\n",
            ".  :  .\n",
            "the  :  the\n",
            "soldiers  :  soldier\n",
            "who  :  who\n",
            "have  :  have\n",
            "their  :  their\n",
            "life  :  life\n",
            "online  :  onlin\n",
            "to  :  to\n",
            "protect  :  protect\n",
            "the  :  the\n",
            "citizens  :  citizen\n",
            "are  :  are\n",
            "the  :  the\n",
            "heroes  :  hero\n",
            "of  :  of\n",
            "india  :  india\n",
            ".  :  .\n",
            "the  :  the\n",
            "first  :  first\n",
            "prime  :  prime\n",
            "minister  :  minist\n",
            "of  :  of\n",
            "india  :  india\n",
            "was  :  wa\n",
            "pandit  :  pandit\n",
            "jawaharlal  :  jawaharl\n",
            "nehru  :  nehru\n",
            ",  :  ,\n",
            "also  :  also\n",
            "called  :  call\n",
            "as  :  as\n",
            "pandit  :  pandit\n",
            "nehru  :  nehru\n",
            "or  :  or\n",
            "chacha  :  chacha\n",
            "nehru  :  nehru\n",
            ".  :  .\n",
            "the  :  the\n",
            "first  :  first\n",
            "president  :  presid\n",
            "of  :  of\n",
            "india  :  india\n",
            "was  :  wa\n",
            "dr.  :  dr.\n",
            "rajendra  :  rajendra\n",
            "prasad  :  prasad\n",
            "by  :  by\n",
            "the  :  the\n",
            "constituent  :  constitu\n",
            "assembly  :  assembl\n",
            ".  :  .\n",
            "he  :  he\n",
            "was  :  wa\n",
            "a  :  a\n",
            "member  :  member\n",
            "of  :  of\n",
            "the  :  the\n",
            "inc  :  inc\n",
            "(  :  (\n",
            "indian  :  indian\n",
            "national  :  nation\n",
            "congress  :  congress\n",
            ")  :  )\n",
            ",  :  ,\n",
            "and  :  and\n",
            "he  :  he\n",
            "was  :  wa\n",
            "a  :  a\n",
            "scholar  :  scholar\n",
            ".  :  .\n",
            "mohandas  :  mohanda\n",
            "karamchand  :  karamchand\n",
            "gandhi  :  gandhi\n",
            ",  :  ,\n",
            "lovingly  :  lovingli\n",
            "known  :  known\n",
            "as  :  as\n",
            "bapujii  :  bapujii\n",
            "or  :  or\n",
            "mahatma  :  mahatma\n",
            "gandhi  :  gandhi\n",
            ",  :  ,\n",
            "is  :  is\n",
            "the  :  the\n",
            "father  :  father\n",
            "of  :  of\n",
            "our  :  our\n",
            "nation  :  nation\n",
            ".  :  .\n",
            "he  :  he\n",
            "is  :  is\n",
            "the  :  the\n",
            "most  :  most\n",
            "recognized  :  recogn\n",
            "figure  :  figur\n",
            "worldwide  :  worldwid\n",
            ",  :  ,\n",
            "best  :  best\n",
            "known  :  known\n",
            "for  :  for\n",
            "his  :  hi\n",
            "contribution  :  contribut\n",
            "to  :  to\n",
            "the  :  the\n",
            "independence  :  independ\n",
            "of  :  of\n",
            "the  :  the\n",
            "country  :  countri\n",
            "by  :  by\n",
            "non-violence  :  non-viol\n",
            ".  :  .\n",
            "rabindranath  :  rabindranath\n",
            "tagore  :  tagor\n",
            "won  :  won\n",
            "the  :  the\n",
            "nobel  :  nobel\n",
            "prize  :  prize\n",
            "in  :  in\n",
            "literature  :  literatur\n",
            "in  :  in\n",
            "the  :  the\n",
            "year  :  year\n",
            "1913  :  1913\n",
            ",  :  ,\n",
            "and  :  and\n",
            "he  :  he\n",
            "is  :  is\n",
            "one  :  one\n",
            "of  :  of\n",
            "the  :  the\n",
            "most  :  most\n",
            "eminent  :  emin\n",
            "personalities  :  person\n",
            "in  :  in\n",
            "india  :  india\n",
            ".  :  .\n",
            "['india', 'is', 'a', 'secular', 'democracy', '.', 'this', 'means', 'that', 'all', 'religions', 'are', 'equally', 'respected', ',', 'and', 'every', 'person', 'is', 'free', 'to', 'follow', 'any', 'religion', 'they', 'want', '.', 'india', 'is', 'the', 'largest', 'democracy', 'in', 'the', 'world', '.', 'people', 'here', 'have', 'all', 'basic', 'human', 'rights', '.', 'the', 'national', 'heritage', 'animal', 'of', 'india', 'is', 'an', 'indian', 'elephant', '.', 'the', 'national', 'river', 'of', 'india', 'is', 'the', 'ganges', '.', 'the', 'ganges', 'is', 'the', 'sacred', 'hindu', 'river', ',', 'which', 'is', 'so', 'sacred', 'that', 'it', 'is', 'believed', 'to', 'wash', 'the', 'sins', 'of', 'people', 'away', '.', 'the', 'highest', 'civilian', 'award', 'in', 'india', 'is', 'the', 'bharat', 'ratna', ',', 'which', 'means', '‘', 'jewel', 'of', 'india', '’', '.', 'the', 'most', 'prominent', 'personalities', 'of', 'india', 'who', 'serve', 'with', 'excellency', 'is', 'their', 'field', 'of', 'work', 'with', 'dedication', ',', 'and', 'hard', 'work', 'earns', 'this', 'award', '.', 'the', 'param', 'vir', 'chakra', 'is', 'india', '’', 's', 'highest', 'military', 'decoration', 'awarded', 'for', 'displaying', 'bravery', '.', 'the', 'soldiers', 'who', 'have', 'their', 'life', 'online', 'to', 'protect', 'the', 'citizens', 'are', 'the', 'heroes', 'of', 'india', '.', 'the', 'first', 'prime', 'minister', 'of', 'india', 'was', 'pandit', 'jawaharlal', 'nehru', ',', 'also', 'called', 'as', 'pandit', 'nehru', 'or', 'chacha', 'nehru', '.', 'the', 'first', 'president', 'of', 'india', 'was', 'dr.', 'rajendra', 'prasad', 'by', 'the', 'constituent', 'assembly', '.', 'he', 'was', 'a', 'member', 'of', 'the', 'inc', '(', 'indian', 'national', 'congress', ')', ',', 'and', 'he', 'was', 'a', 'scholar', '.', 'mohandas', 'karamchand', 'gandhi', ',', 'lovingly', 'known', 'as', 'bapujii', 'or', 'mahatma', 'gandhi', ',', 'is', 'the', 'father', 'of', 'our', 'nation', '.', 'he', 'is', 'the', 'most', 'recognized', 'figure', 'worldwide', ',', 'best', 'known', 'for', 'his', 'contribution', 'to', 'the', 'independence', 'of', 'the', 'country', 'by', 'non-violence', '.', 'rabindranath', 'tagore', 'won', 'the', 'nobel', 'prize', 'in', 'literature', 'in', 'the', 'year', '1913', ',', 'and', 'he', 'is', 'one', 'of', 'the', 'most', 'eminent', 'personalities', 'in', 'india', '.']\n"
          ]
        }
      ],
      "source": [
        "from nltk.stem import PorterStemmer\n",
        "porter = PorterStemmer()\n",
        "stemmed_para=[]\n",
        "for w in word_seg_lower:\n",
        "    print(w, \" : \", porter.stem(w))  #stemming result of word and stemmed word\n",
        "for w in word_seg_lower:\n",
        "    stemmed_para.append(w)\n",
        "print(stemmed_para)     #stemmed words in a list"
      ]
    },
    {
      "cell_type": "markdown",
      "metadata": {
        "id": "Uo8K8GAN_ooE"
      },
      "source": [
        "Lemmatization"
      ]
    },
    {
      "cell_type": "code",
      "execution_count": null,
      "metadata": {
        "colab": {
          "base_uri": "https://localhost:8080/"
        },
        "id": "cyiZ5cOsAROs",
        "outputId": "2216709c-1e9e-4bb8-b8a6-7874be8d8a1f"
      },
      "outputs": [
        {
          "name": "stderr",
          "output_type": "stream",
          "text": [
            "[nltk_data] Downloading package wordnet to /root/nltk_data...\n",
            "[nltk_data]   Package wordnet is already up-to-date!\n",
            "[nltk_data] Downloading package omw-1.4 to /root/nltk_data...\n"
          ]
        },
        {
          "data": {
            "text/plain": [
              "True"
            ]
          },
          "execution_count": 38,
          "metadata": {},
          "output_type": "execute_result"
        }
      ],
      "source": [
        "nltk.download('wordnet')\n",
        "nltk.download('omw-1.4')"
      ]
    },
    {
      "cell_type": "code",
      "execution_count": null,
      "metadata": {
        "colab": {
          "base_uri": "https://localhost:8080/"
        },
        "id": "VCL6m-4C_pv9",
        "outputId": "e5de6c75-2600-47e7-ef83-de5b83072fee"
      },
      "outputs": [
        {
          "name": "stdout",
          "output_type": "stream",
          "text": [
            "india  :  india\n",
            "is  :  is\n",
            "a  :  a\n",
            "secular  :  secular\n",
            "democracy  :  democracy\n",
            ".  :  .\n",
            "this  :  this\n",
            "means  :  mean\n",
            "that  :  that\n",
            "all  :  all\n",
            "religions  :  religion\n",
            "are  :  are\n",
            "equally  :  equally\n",
            "respected  :  respected\n",
            ",  :  ,\n",
            "and  :  and\n",
            "every  :  every\n",
            "person  :  person\n",
            "is  :  is\n",
            "free  :  free\n",
            "to  :  to\n",
            "follow  :  follow\n",
            "any  :  any\n",
            "religion  :  religion\n",
            "they  :  they\n",
            "want  :  want\n",
            ".  :  .\n",
            "india  :  india\n",
            "is  :  is\n",
            "the  :  the\n",
            "largest  :  largest\n",
            "democracy  :  democracy\n",
            "in  :  in\n",
            "the  :  the\n",
            "world  :  world\n",
            ".  :  .\n",
            "people  :  people\n",
            "here  :  here\n",
            "have  :  have\n",
            "all  :  all\n",
            "basic  :  basic\n",
            "human  :  human\n",
            "rights  :  right\n",
            ".  :  .\n",
            "the  :  the\n",
            "national  :  national\n",
            "heritage  :  heritage\n",
            "animal  :  animal\n",
            "of  :  of\n",
            "india  :  india\n",
            "is  :  is\n",
            "an  :  an\n",
            "indian  :  indian\n",
            "elephant  :  elephant\n",
            ".  :  .\n",
            "the  :  the\n",
            "national  :  national\n",
            "river  :  river\n",
            "of  :  of\n",
            "india  :  india\n",
            "is  :  is\n",
            "the  :  the\n",
            "ganges  :  ganges\n",
            ".  :  .\n",
            "the  :  the\n",
            "ganges  :  ganges\n",
            "is  :  is\n",
            "the  :  the\n",
            "sacred  :  sacred\n",
            "hindu  :  hindu\n",
            "river  :  river\n",
            ",  :  ,\n",
            "which  :  which\n",
            "is  :  is\n",
            "so  :  so\n",
            "sacred  :  sacred\n",
            "that  :  that\n",
            "it  :  it\n",
            "is  :  is\n",
            "believed  :  believed\n",
            "to  :  to\n",
            "wash  :  wash\n",
            "the  :  the\n",
            "sins  :  sin\n",
            "of  :  of\n",
            "people  :  people\n",
            "away  :  away\n",
            ".  :  .\n",
            "the  :  the\n",
            "highest  :  highest\n",
            "civilian  :  civilian\n",
            "award  :  award\n",
            "in  :  in\n",
            "india  :  india\n",
            "is  :  is\n",
            "the  :  the\n",
            "bharat  :  bharat\n",
            "ratna  :  ratna\n",
            ",  :  ,\n",
            "which  :  which\n",
            "means  :  mean\n",
            "‘  :  ‘\n",
            "jewel  :  jewel\n",
            "of  :  of\n",
            "india  :  india\n",
            "’  :  ’\n",
            ".  :  .\n",
            "the  :  the\n",
            "most  :  most\n",
            "prominent  :  prominent\n",
            "personalities  :  personality\n",
            "of  :  of\n",
            "india  :  india\n",
            "who  :  who\n",
            "serve  :  serve\n",
            "with  :  with\n",
            "excellency  :  excellency\n",
            "is  :  is\n",
            "their  :  their\n",
            "field  :  field\n",
            "of  :  of\n",
            "work  :  work\n",
            "with  :  with\n",
            "dedication  :  dedication\n",
            ",  :  ,\n",
            "and  :  and\n",
            "hard  :  hard\n",
            "work  :  work\n",
            "earns  :  earns\n",
            "this  :  this\n",
            "award  :  award\n",
            ".  :  .\n",
            "the  :  the\n",
            "param  :  param\n",
            "vir  :  vir\n",
            "chakra  :  chakra\n",
            "is  :  is\n",
            "india  :  india\n",
            "’  :  ’\n",
            "s  :  s\n",
            "highest  :  highest\n",
            "military  :  military\n",
            "decoration  :  decoration\n",
            "awarded  :  awarded\n",
            "for  :  for\n",
            "displaying  :  displaying\n",
            "bravery  :  bravery\n",
            ".  :  .\n",
            "the  :  the\n",
            "soldiers  :  soldier\n",
            "who  :  who\n",
            "have  :  have\n",
            "their  :  their\n",
            "life  :  life\n",
            "online  :  online\n",
            "to  :  to\n",
            "protect  :  protect\n",
            "the  :  the\n",
            "citizens  :  citizen\n",
            "are  :  are\n",
            "the  :  the\n",
            "heroes  :  hero\n",
            "of  :  of\n",
            "india  :  india\n",
            ".  :  .\n",
            "the  :  the\n",
            "first  :  first\n",
            "prime  :  prime\n",
            "minister  :  minister\n",
            "of  :  of\n",
            "india  :  india\n",
            "was  :  wa\n",
            "pandit  :  pandit\n",
            "jawaharlal  :  jawaharlal\n",
            "nehru  :  nehru\n",
            ",  :  ,\n",
            "also  :  also\n",
            "called  :  called\n",
            "as  :  a\n",
            "pandit  :  pandit\n",
            "nehru  :  nehru\n",
            "or  :  or\n",
            "chacha  :  chacha\n",
            "nehru  :  nehru\n",
            ".  :  .\n",
            "the  :  the\n",
            "first  :  first\n",
            "president  :  president\n",
            "of  :  of\n",
            "india  :  india\n",
            "was  :  wa\n",
            "dr.  :  dr.\n",
            "rajendra  :  rajendra\n",
            "prasad  :  prasad\n",
            "by  :  by\n",
            "the  :  the\n",
            "constituent  :  constituent\n",
            "assembly  :  assembly\n",
            ".  :  .\n",
            "he  :  he\n",
            "was  :  wa\n",
            "a  :  a\n",
            "member  :  member\n",
            "of  :  of\n",
            "the  :  the\n",
            "inc  :  inc\n",
            "(  :  (\n",
            "indian  :  indian\n",
            "national  :  national\n",
            "congress  :  congress\n",
            ")  :  )\n",
            ",  :  ,\n",
            "and  :  and\n",
            "he  :  he\n",
            "was  :  wa\n",
            "a  :  a\n",
            "scholar  :  scholar\n",
            ".  :  .\n",
            "mohandas  :  mohandas\n",
            "karamchand  :  karamchand\n",
            "gandhi  :  gandhi\n",
            ",  :  ,\n",
            "lovingly  :  lovingly\n",
            "known  :  known\n",
            "as  :  a\n",
            "bapujii  :  bapujii\n",
            "or  :  or\n",
            "mahatma  :  mahatma\n",
            "gandhi  :  gandhi\n",
            ",  :  ,\n",
            "is  :  is\n",
            "the  :  the\n",
            "father  :  father\n",
            "of  :  of\n",
            "our  :  our\n",
            "nation  :  nation\n",
            ".  :  .\n",
            "he  :  he\n",
            "is  :  is\n",
            "the  :  the\n",
            "most  :  most\n",
            "recognized  :  recognized\n",
            "figure  :  figure\n",
            "worldwide  :  worldwide\n",
            ",  :  ,\n",
            "best  :  best\n",
            "known  :  known\n",
            "for  :  for\n",
            "his  :  his\n",
            "contribution  :  contribution\n",
            "to  :  to\n",
            "the  :  the\n",
            "independence  :  independence\n",
            "of  :  of\n",
            "the  :  the\n",
            "country  :  country\n",
            "by  :  by\n",
            "non-violence  :  non-violence\n",
            ".  :  .\n",
            "rabindranath  :  rabindranath\n",
            "tagore  :  tagore\n",
            "won  :  won\n",
            "the  :  the\n",
            "nobel  :  nobel\n",
            "prize  :  prize\n",
            "in  :  in\n",
            "literature  :  literature\n",
            "in  :  in\n",
            "the  :  the\n",
            "year  :  year\n",
            "1913  :  1913\n",
            ",  :  ,\n",
            "and  :  and\n",
            "he  :  he\n",
            "is  :  is\n",
            "one  :  one\n",
            "of  :  of\n",
            "the  :  the\n",
            "most  :  most\n",
            "eminent  :  eminent\n",
            "personalities  :  personality\n",
            "in  :  in\n",
            "india  :  india\n",
            ".  :  .\n",
            "['india', 'is', 'a', 'secular', 'democracy', '.', 'this', 'means', 'that', 'all', 'religions', 'are', 'equally', 'respected', ',', 'and', 'every', 'person', 'is', 'free', 'to', 'follow', 'any', 'religion', 'they', 'want', '.', 'india', 'is', 'the', 'largest', 'democracy', 'in', 'the', 'world', '.', 'people', 'here', 'have', 'all', 'basic', 'human', 'rights', '.', 'the', 'national', 'heritage', 'animal', 'of', 'india', 'is', 'an', 'indian', 'elephant', '.', 'the', 'national', 'river', 'of', 'india', 'is', 'the', 'ganges', '.', 'the', 'ganges', 'is', 'the', 'sacred', 'hindu', 'river', ',', 'which', 'is', 'so', 'sacred', 'that', 'it', 'is', 'believed', 'to', 'wash', 'the', 'sins', 'of', 'people', 'away', '.', 'the', 'highest', 'civilian', 'award', 'in', 'india', 'is', 'the', 'bharat', 'ratna', ',', 'which', 'means', '‘', 'jewel', 'of', 'india', '’', '.', 'the', 'most', 'prominent', 'personalities', 'of', 'india', 'who', 'serve', 'with', 'excellency', 'is', 'their', 'field', 'of', 'work', 'with', 'dedication', ',', 'and', 'hard', 'work', 'earns', 'this', 'award', '.', 'the', 'param', 'vir', 'chakra', 'is', 'india', '’', 's', 'highest', 'military', 'decoration', 'awarded', 'for', 'displaying', 'bravery', '.', 'the', 'soldiers', 'who', 'have', 'their', 'life', 'online', 'to', 'protect', 'the', 'citizens', 'are', 'the', 'heroes', 'of', 'india', '.', 'the', 'first', 'prime', 'minister', 'of', 'india', 'was', 'pandit', 'jawaharlal', 'nehru', ',', 'also', 'called', 'as', 'pandit', 'nehru', 'or', 'chacha', 'nehru', '.', 'the', 'first', 'president', 'of', 'india', 'was', 'dr.', 'rajendra', 'prasad', 'by', 'the', 'constituent', 'assembly', '.', 'he', 'was', 'a', 'member', 'of', 'the', 'inc', '(', 'indian', 'national', 'congress', ')', ',', 'and', 'he', 'was', 'a', 'scholar', '.', 'mohandas', 'karamchand', 'gandhi', ',', 'lovingly', 'known', 'as', 'bapujii', 'or', 'mahatma', 'gandhi', ',', 'is', 'the', 'father', 'of', 'our', 'nation', '.', 'he', 'is', 'the', 'most', 'recognized', 'figure', 'worldwide', ',', 'best', 'known', 'for', 'his', 'contribution', 'to', 'the', 'independence', 'of', 'the', 'country', 'by', 'non-violence', '.', 'rabindranath', 'tagore', 'won', 'the', 'nobel', 'prize', 'in', 'literature', 'in', 'the', 'year', '1913', ',', 'and', 'he', 'is', 'one', 'of', 'the', 'most', 'eminent', 'personalities', 'in', 'india', '.']\n"
          ]
        }
      ],
      "source": [
        "from nltk.stem import WordNetLemmatizer\n",
        "lem = WordNetLemmatizer()\n",
        "lemmed_para=[]\n",
        "for w in word_seg_lower:\n",
        "    print(w, \" : \", lem.lemmatize(w))\n",
        "for w in word_seg_lower:\n",
        "    lemmed_para.append(w)\n",
        "print(lemmed_para) "
      ]
    },
    {
      "cell_type": "markdown",
      "metadata": {
        "id": "hqJHiFiYBTIt"
      },
      "source": [
        "Part of speech tagger"
      ]
    },
    {
      "cell_type": "code",
      "execution_count": null,
      "metadata": {
        "colab": {
          "base_uri": "https://localhost:8080/"
        },
        "id": "dG3IuYIgBeOs",
        "outputId": "9f6715a6-9d9c-47cb-b755-79397b028d71"
      },
      "outputs": [
        {
          "name": "stdout",
          "output_type": "stream",
          "text": [
            "[('india', 'NN'), ('is', 'VBZ'), ('a', 'DT'), ('secular', 'JJ'), ('democracy', 'NN'), ('.', '.'), ('this', 'DT'), ('means', 'VBZ'), ('that', 'IN'), ('all', 'DT'), ('religions', 'NNS'), ('are', 'VBP'), ('equally', 'RB'), ('respected', 'VBN'), (',', ','), ('and', 'CC'), ('every', 'DT'), ('person', 'NN'), ('is', 'VBZ'), ('free', 'JJ'), ('to', 'TO'), ('follow', 'VB'), ('any', 'DT'), ('religion', 'NN'), ('they', 'PRP'), ('want', 'VBP'), ('.', '.'), ('india', 'NN'), ('is', 'VBZ'), ('the', 'DT'), ('largest', 'JJS'), ('democracy', 'NN'), ('in', 'IN'), ('the', 'DT'), ('world', 'NN'), ('.', '.'), ('people', 'NNS'), ('here', 'RB'), ('have', 'VBP'), ('all', 'DT'), ('basic', 'JJ'), ('human', 'JJ'), ('rights', 'NNS'), ('.', '.'), ('the', 'DT'), ('national', 'JJ'), ('heritage', 'NN'), ('animal', 'NN'), ('of', 'IN'), ('india', 'NN'), ('is', 'VBZ'), ('an', 'DT'), ('indian', 'JJ'), ('elephant', 'NN'), ('.', '.'), ('the', 'DT'), ('national', 'JJ'), ('river', 'NN'), ('of', 'IN'), ('india', 'NN'), ('is', 'VBZ'), ('the', 'DT'), ('ganges', 'NNS'), ('.', '.'), ('the', 'DT'), ('ganges', 'NNS'), ('is', 'VBZ'), ('the', 'DT'), ('sacred', 'JJ'), ('hindu', 'NN'), ('river', 'NN'), (',', ','), ('which', 'WDT'), ('is', 'VBZ'), ('so', 'RB'), ('sacred', 'JJ'), ('that', 'IN'), ('it', 'PRP'), ('is', 'VBZ'), ('believed', 'VBN'), ('to', 'TO'), ('wash', 'VB'), ('the', 'DT'), ('sins', 'NNS'), ('of', 'IN'), ('people', 'NNS'), ('away', 'RB'), ('.', '.'), ('the', 'DT'), ('highest', 'JJS'), ('civilian', 'JJ'), ('award', 'NN'), ('in', 'IN'), ('india', 'NN'), ('is', 'VBZ'), ('the', 'DT'), ('bharat', 'NN'), ('ratna', 'NN'), (',', ','), ('which', 'WDT'), ('means', 'VBZ'), ('‘', 'JJ'), ('jewel', 'NN'), ('of', 'IN'), ('india', 'JJ'), ('’', 'NNP'), ('.', '.'), ('the', 'DT'), ('most', 'RBS'), ('prominent', 'JJ'), ('personalities', 'NNS'), ('of', 'IN'), ('india', 'NN'), ('who', 'WP'), ('serve', 'VBP'), ('with', 'IN'), ('excellency', 'NN'), ('is', 'VBZ'), ('their', 'PRP$'), ('field', 'NN'), ('of', 'IN'), ('work', 'NN'), ('with', 'IN'), ('dedication', 'NN'), (',', ','), ('and', 'CC'), ('hard', 'JJ'), ('work', 'NN'), ('earns', 'VBZ'), ('this', 'DT'), ('award', 'NN'), ('.', '.'), ('the', 'DT'), ('param', 'NN'), ('vir', 'NN'), ('chakra', 'NN'), ('is', 'VBZ'), ('india', 'JJ'), ('’', 'NNP'), ('s', 'NN'), ('highest', 'JJS'), ('military', 'JJ'), ('decoration', 'NN'), ('awarded', 'VBD'), ('for', 'IN'), ('displaying', 'VBG'), ('bravery', 'NN'), ('.', '.'), ('the', 'DT'), ('soldiers', 'NNS'), ('who', 'WP'), ('have', 'VBP'), ('their', 'PRP$'), ('life', 'NN'), ('online', 'NN'), ('to', 'TO'), ('protect', 'VB'), ('the', 'DT'), ('citizens', 'NNS'), ('are', 'VBP'), ('the', 'DT'), ('heroes', 'NNS'), ('of', 'IN'), ('india', 'NN'), ('.', '.'), ('the', 'DT'), ('first', 'JJ'), ('prime', 'JJ'), ('minister', 'NN'), ('of', 'IN'), ('india', 'NN'), ('was', 'VBD'), ('pandit', 'JJ'), ('jawaharlal', 'NN'), ('nehru', 'NN'), (',', ','), ('also', 'RB'), ('called', 'VBD'), ('as', 'IN'), ('pandit', 'NN'), ('nehru', 'NN'), ('or', 'CC'), ('chacha', 'NN'), ('nehru', 'NN'), ('.', '.'), ('the', 'DT'), ('first', 'JJ'), ('president', 'NN'), ('of', 'IN'), ('india', 'NN'), ('was', 'VBD'), ('dr.', 'JJ'), ('rajendra', 'NN'), ('prasad', 'NN'), ('by', 'IN'), ('the', 'DT'), ('constituent', 'NN'), ('assembly', 'RB'), ('.', '.'), ('he', 'PRP'), ('was', 'VBD'), ('a', 'DT'), ('member', 'NN'), ('of', 'IN'), ('the', 'DT'), ('inc', 'NN'), ('(', '('), ('indian', 'JJ'), ('national', 'JJ'), ('congress', 'NN'), (')', ')'), (',', ','), ('and', 'CC'), ('he', 'PRP'), ('was', 'VBD'), ('a', 'DT'), ('scholar', 'NN'), ('.', '.'), ('mohandas', 'NNS'), ('karamchand', 'VBP'), ('gandhi', 'NN'), (',', ','), ('lovingly', 'RB'), ('known', 'VBN'), ('as', 'IN'), ('bapujii', 'NN'), ('or', 'CC'), ('mahatma', 'NN'), ('gandhi', 'NN'), (',', ','), ('is', 'VBZ'), ('the', 'DT'), ('father', 'NN'), ('of', 'IN'), ('our', 'PRP$'), ('nation', 'NN'), ('.', '.'), ('he', 'PRP'), ('is', 'VBZ'), ('the', 'DT'), ('most', 'RBS'), ('recognized', 'JJ'), ('figure', 'NN'), ('worldwide', 'NN'), (',', ','), ('best', 'JJS'), ('known', 'VBN'), ('for', 'IN'), ('his', 'PRP$'), ('contribution', 'NN'), ('to', 'TO'), ('the', 'DT'), ('independence', 'NN'), ('of', 'IN'), ('the', 'DT'), ('country', 'NN'), ('by', 'IN'), ('non-violence', 'NN'), ('.', '.'), ('rabindranath', 'NN'), ('tagore', 'NN'), ('won', 'VBD'), ('the', 'DT'), ('nobel', 'JJ'), ('prize', 'NN'), ('in', 'IN'), ('literature', 'NN'), ('in', 'IN'), ('the', 'DT'), ('year', 'NN'), ('1913', 'CD'), (',', ','), ('and', 'CC'), ('he', 'PRP'), ('is', 'VBZ'), ('one', 'CD'), ('of', 'IN'), ('the', 'DT'), ('most', 'RBS'), ('eminent', 'JJ'), ('personalities', 'NNS'), ('in', 'IN'), ('india', 'NN'), ('.', '.')]\n",
            "[('India', 'NNP'), ('secular', 'JJ'), ('democracy', 'NN'), ('.', '.'), ('means', 'VBZ'), ('religions', 'NNS'), ('equally', 'RB'), ('respected', 'VBD'), (',', ','), ('every', 'DT'), ('person', 'NN'), ('free', 'JJ'), ('follow', 'VBP'), ('religion', 'NN'), ('want', 'NN'), ('.', '.'), ('India', 'NNP'), ('largest', 'JJS'), ('democracy', 'NN'), ('world', 'NN'), ('.', '.'), ('People', 'NNS'), ('basic', 'JJ'), ('human', 'JJ'), ('rights', 'NNS'), ('.', '.'), ('national', 'JJ'), ('heritage', 'NN'), ('animal', 'JJ'), ('India', 'NNP'), ('Indian', 'NNP'), ('Elephant', 'NNP'), ('.', '.'), ('national', 'JJ'), ('river', 'NN'), ('India', 'NNP'), ('Ganges', 'NNP'), ('.', '.'), ('Ganges', 'NNP'), ('sacred', 'VBD'), ('Hindu', 'NNP'), ('river', 'NN'), (',', ','), ('sacred', 'VBD'), ('believed', 'VBN'), ('wash', 'JJ'), ('sins', 'NNS'), ('people', 'NNS'), ('away', 'RB'), ('.', '.'), ('highest', 'JJS'), ('civilian', 'JJ'), ('award', 'NN'), ('India', 'NNP'), ('Bharat', 'NNP'), ('Ratna', 'NNP'), (',', ','), ('means', 'VBZ'), ('‘', 'JJ'), ('jewel', 'NN'), ('India', 'NNP'), ('’', 'NNP'), ('.', '.'), ('prominent', 'JJ'), ('personalities', 'NNS'), ('India', 'NNP'), ('serve', 'VBP'), ('excellency', 'NN'), ('field', 'NN'), ('work', 'NN'), ('dedication', 'NN'), (',', ','), ('hard', 'JJ'), ('work', 'NN'), ('earns', 'VBZ'), ('award', 'RB'), ('.', '.'), ('Param', 'NNP'), ('Vir', 'NNP'), ('Chakra', 'NNP'), ('India', 'NNP'), ('’', 'NNP'), ('highest', 'JJS'), ('military', 'JJ'), ('decoration', 'NN'), ('awarded', 'VBD'), ('displaying', 'VBG'), ('bravery', 'NN'), ('.', '.'), ('soldiers', 'NNS'), ('life', 'NN'), ('online', 'VBP'), ('protect', 'NN'), ('citizens', 'NNS'), ('heroes', 'NNS'), ('India', 'NNP'), ('.', '.'), ('first', 'JJ'), ('prime', 'JJ'), ('minister', 'NN'), ('India', 'NNP'), ('Pandit', 'NNP'), ('Jawaharlal', 'NNP'), ('Nehru', 'NNP'), (',', ','), ('also', 'RB'), ('called', 'VBD'), ('Pandit', 'NNP'), ('Nehru', 'NNP'), ('Chacha', 'NNP'), ('Nehru', 'NNP'), ('.', '.'), ('first', 'JJ'), ('President', 'NNP'), ('India', 'NNP'), ('Dr.', 'NNP'), ('Rajendra', 'NNP'), ('Prasad', 'NNP'), ('constituent', 'NN'), ('assembly', 'NN'), ('.', '.'), ('member', 'NN'), ('INC', 'NNP'), ('(', '('), ('Indian', 'JJ'), ('National', 'NNP'), ('Congress', 'NNP'), (')', ')'), (',', ','), ('scholar', 'JJ'), ('.', '.'), ('Mohandas', 'NNP'), ('Karamchand', 'NNP'), ('Gandhi', 'NNP'), (',', ','), ('lovingly', 'RB'), ('known', 'VBN'), ('Bapujii', 'NNP'), ('Mahatma', 'NNP'), ('Gandhi', 'NNP'), (',', ','), ('Father', 'NNP'), ('Nation', 'NNP'), ('.', '.'), ('recognized', 'VBN'), ('figure', 'NN'), ('worldwide', 'NN'), (',', ','), ('best', 'RB'), ('known', 'VBN'), ('contribution', 'NN'), ('independence', 'NN'), ('country', 'NN'), ('non-violence', 'NN'), ('.', '.'), ('Rabindranath', 'NNP'), ('Tagore', 'NNP'), ('Nobel', 'NNP'), ('Prize', 'NNP'), ('Literature', 'NNP'), ('year', 'NN'), ('1913', 'CD'), (',', ','), ('one', 'CD'), ('eminent', 'NN'), ('personalities', 'NNS'), ('India', 'NNP'), ('.', '.'), ('India', 'NNP'), ('secular', 'JJ'), ('democracy', 'NN'), ('.', '.'), ('This', 'DT'), ('means', 'VBZ'), ('religions', 'NNS'), ('equally', 'RB'), ('respected', 'VBD'), (',', ','), ('every', 'DT'), ('person', 'NN'), ('free', 'JJ'), ('follow', 'VBP'), ('religion', 'NN'), ('want', 'NN'), ('.', '.'), ('India', 'NNP'), ('largest', 'JJS'), ('democracy', 'NN'), ('world', 'NN'), ('.', '.'), ('People', 'NNS'), ('basic', 'JJ'), ('human', 'JJ'), ('rights', 'NNS'), ('.', '.'), ('The', 'DT'), ('national', 'JJ'), ('heritage', 'NN'), ('animal', 'JJ'), ('India', 'NNP'), ('Indian', 'NNP'), ('Elephant', 'NNP'), ('.', '.'), ('The', 'DT'), ('national', 'JJ'), ('river', 'NN'), ('India', 'NNP'), ('Ganges', 'NNP'), ('.', '.'), ('The', 'DT'), ('Ganges', 'NNPS'), ('sacred', 'VBD'), ('Hindu', 'NNP'), ('river', 'NN'), (',', ','), ('sacred', 'VBD'), ('believed', 'VBN'), ('wash', 'JJ'), ('sins', 'NNS'), ('people', 'NNS'), ('away', 'RB'), ('.', '.'), ('The', 'DT'), ('highest', 'JJS'), ('civilian', 'JJ'), ('award', 'NN'), ('India', 'NNP'), ('Bharat', 'NNP'), ('Ratna', 'NNP'), (',', ','), ('means', 'VBZ'), ('‘', 'JJ'), ('jewel', 'NN'), ('India', 'NNP'), ('’', 'NNP'), ('.', '.'), ('The', 'DT'), ('prominent', 'JJ'), ('personalities', 'NNS'), ('India', 'NNP'), ('serve', 'VBP'), ('excellency', 'NN'), ('field', 'NN'), ('work', 'NN'), ('dedication', 'NN'), (',', ','), ('hard', 'JJ'), ('work', 'NN'), ('earns', 'VBZ'), ('award', 'RB'), ('.', '.'), ('The', 'DT'), ('Param', 'NNP'), ('Vir', 'NNP'), ('Chakra', 'NNP'), ('India', 'NNP'), ('’', 'NNP'), ('highest', 'JJS'), ('military', 'JJ'), ('decoration', 'NN'), ('awarded', 'VBD'), ('displaying', 'VBG'), ('bravery', 'NN'), ('.', '.'), ('The', 'DT'), ('soldiers', 'NNS'), ('life', 'NN'), ('online', 'VBP'), ('protect', 'NN'), ('citizens', 'NNS'), ('heroes', 'NNS'), ('India', 'NNP'), ('.', '.'), ('The', 'DT'), ('first', 'JJ'), ('prime', 'JJ'), ('minister', 'NN'), ('India', 'NNP'), ('Pandit', 'NNP'), ('Jawaharlal', 'NNP'), ('Nehru', 'NNP'), (',', ','), ('also', 'RB'), ('called', 'VBD'), ('Pandit', 'NNP'), ('Nehru', 'NNP'), ('Chacha', 'NNP'), ('Nehru', 'NNP'), ('.', '.'), ('The', 'DT'), ('first', 'JJ'), ('President', 'NNP'), ('India', 'NNP'), ('Dr.', 'NNP'), ('Rajendra', 'NNP'), ('Prasad', 'NNP'), ('constituent', 'NN'), ('assembly', 'RB'), ('.', '.'), ('He', 'PRP'), ('member', 'NN'), ('INC', 'NNP'), ('(', '('), ('Indian', 'JJ'), ('National', 'NNP'), ('Congress', 'NNP'), (')', ')'), (',', ','), ('scholar', 'JJ'), ('.', '.'), ('Mohandas', 'NNP'), ('Karamchand', 'NNP'), ('Gandhi', 'NNP'), (',', ','), ('lovingly', 'RB'), ('known', 'VBN'), ('Bapujii', 'NNP'), ('Mahatma', 'NNP'), ('Gandhi', 'NNP'), (',', ','), ('Father', 'NNP'), ('Nation', 'NNP'), ('.', '.'), ('He', 'PRP'), ('recognized', 'VBD'), ('figure', 'NN'), ('worldwide', 'NN'), (',', ','), ('best', 'RB'), ('known', 'VBN'), ('contribution', 'NN'), ('independence', 'NN'), ('country', 'NN'), ('non-violence', 'NN'), ('.', '.'), ('Rabindranath', 'NNP'), ('Tagore', 'NNP'), ('Nobel', 'NNP'), ('Prize', 'NNP'), ('Literature', 'NNP'), ('year', 'NN'), ('1913', 'CD'), (',', ','), ('one', 'CD'), ('eminent', 'NN'), ('personalities', 'NNS'), ('India', 'NNP'), ('.', '.')]\n"
          ]
        }
      ],
      "source": [
        "tagged = nltk.pos_tag(word_seg_lower)\n",
        "print(tagged)\n",
        "#we can remove the stopwords for tagging if we want\n",
        "para_wo = nltk.pos_tag(para_wo_sw)\n",
        "print(para_wo)"
      ]
    }
  ],
  "metadata": {
    "colab": {
      "provenance": []
    },
    "kernelspec": {
      "display_name": "Python 3",
      "name": "python3"
    },
    "language_info": {
      "name": "python"
    }
  },
  "nbformat": 4,
  "nbformat_minor": 0
}
